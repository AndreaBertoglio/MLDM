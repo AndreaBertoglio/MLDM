{
  "nbformat": 4,
  "nbformat_minor": 0,
  "metadata": {
    "kernelspec": {
      "display_name": "Python 3",
      "language": "python",
      "name": "python3"
    },
    "language_info": {
      "codemirror_mode": {
        "name": "ipython",
        "version": 3
      },
      "file_extension": ".py",
      "mimetype": "text/x-python",
      "name": "python",
      "nbconvert_exporter": "python",
      "pygments_lexer": "ipython3",
      "version": "3.6.7"
    },
    "colab": {
      "name": "Keras.ipyn",
      "provenance": [],
      "include_colab_link": true
    }
  },
  "cells": [
    {
      "cell_type": "markdown",
      "metadata": {
        "id": "view-in-github",
        "colab_type": "text"
      },
      "source": [
        "<a href=\"https://colab.research.google.com/github/AndreaBertoglio/MLDM/blob/master/Keras_ipyn.ipynb\" target=\"_parent\"><img src=\"https://colab.research.google.com/assets/colab-badge.svg\" alt=\"Open In Colab\"/></a>"
      ]
    },
    {
      "cell_type": "code",
      "metadata": {
        "id": "UbTCbLFR887g",
        "colab_type": "code",
        "colab": {}
      },
      "source": [
        "# !pip install keras\n",
        "# !pip install tensorflow (CPU VERSION)\n",
        "# !pip install tensorflow-gpu (GPU VERSION)\n",
        "\n",
        "import csv\n",
        "import pandas as pd \n",
        "from sklearn.preprocessing import StandardScaler\n",
        "from sklearn.impute import SimpleImputer\n",
        "from sklearn.experimental import enable_iterative_imputer\n",
        "from sklearn.impute import IterativeImputer\n",
        "import numpy as np"
      ],
      "execution_count": null,
      "outputs": []
    },
    {
      "cell_type": "code",
      "metadata": {
        "id": "ab2icSxs887s",
        "colab_type": "code",
        "colab": {
          "base_uri": "https://localhost:8080/",
          "height": 34
        },
        "outputId": "3c3ecbb3-d6b9-4533-a2ac-e23385a391df"
      },
      "source": [
        "t= pd.read_csv('https://raw.githubusercontent.com/serivan/mldmlab/master/Datasets/Kaggle2020/train.csv')\n",
        "t.to_csv('train.csv', index=False)\n",
        "\n",
        "#sistemo CSV\n",
        "with open('train.csv') as f_in, open('new_train.csv', 'w') as f_out:\n",
        "    #crea il nuovo csv\n",
        "    filewriter = csv.writer(f_out, delimiter=',')\n",
        "    # Write header unchanged\n",
        "    header = f_in.readline()\n",
        "    f_out.write(header)\n",
        "\n",
        "    reader = csv.reader(f_in)\n",
        "    lines = list(reader)\n",
        "\n",
        "    for line in lines:\n",
        "        if line[2] != '' and float(line[2])>100:\n",
        "            line[2]=float(line[2])/1000\n",
        "        if line[8] != '' and float(line[8])>100:\n",
        "            line[8]=float(line[8])/1000\n",
        "    \n",
        "    writer = csv.writer(f_out)\n",
        "    writer.writerows(lines)\n",
        "\n",
        "f_in.close()\n",
        "f_out.close()\n",
        "\n",
        "\n",
        "train = pd.read_csv('new_train.csv')\n",
        "# pull data into target (y) and predictors (X)\n",
        "train[\"Quality\"] = np.where(train[\"Quality\"].str.contains(\"Good\"), 1, 0)\n",
        "train_y = train.Quality\n",
        "#tengo volatile e density perchè li ho sistemati\n",
        "predictor_cols = ['fixed.acidity','volatile.acidity','citric.acid','residual.sugar','chlorides','free.sulfur.dioxide',\n",
        "                  'total.sulfur.dioxide','density','pH','sulphates','alcohol']\n",
        "# Create training predictors data\n",
        "train_X = train[predictor_cols]\n",
        "\n",
        "scaler = StandardScaler()\n",
        "\n",
        "train_X_std = scaler.fit_transform(train_X)\n",
        "\n",
        "# Create our imputer to replace missing values with the mean e.g.\n",
        "#imp = SimpleImputer(missing_values=np.nan, strategy='mean')\n",
        "imp = IterativeImputer(missing_values=np.nan, max_iter=100, initial_strategy='mean')\n",
        "imp = imp.fit(train_X_std)\n",
        "\n",
        "# Impute our data, then train\n",
        "train_X_imp = imp.transform(train_X_std)\n",
        "print(train_X_imp.shape)"
      ],
      "execution_count": null,
      "outputs": [
        {
          "output_type": "stream",
          "text": [
            "(3489, 11)\n"
          ],
          "name": "stdout"
        }
      ]
    },
    {
      "cell_type": "code",
      "metadata": {
        "id": "NYql5cNPBFT2",
        "colab_type": "code",
        "colab": {}
      },
      "source": [
        "import tensorflow as tf\n",
        "\n",
        "# Import `Sequential` from `keras.models`\n",
        "from keras.models import Sequential\n",
        "\n",
        "# Import `Dense` from `keras.layers`\n",
        "from keras.layers import Dense\n",
        "\n",
        "# Initialize the constructor\n",
        "model = Sequential()\n",
        "\n",
        "model.add(Dense(15,kernel_initializer='uniform', activation='relu', input_shape=(11,)))\n",
        "model.add(Dense(8, activation='relu'))\n",
        "model.add(Dense(3, activation='relu'))\n",
        "model.add(Dense(1, activation='sigmoid'))"
      ],
      "execution_count": null,
      "outputs": []
    },
    {
      "cell_type": "code",
      "metadata": {
        "id": "CMe1dsH8CCly",
        "colab_type": "code",
        "colab": {
          "base_uri": "https://localhost:8080/",
          "height": 894
        },
        "outputId": "7c3b796c-a28a-4211-cf5b-9367206e66bf"
      },
      "source": [
        "\n",
        "model.compile(loss='binary_crossentropy',\n",
        "              optimizer='SGD',\n",
        "              metrics=['accuracy',tf.keras.metrics.AUC()])\n",
        "                   \n",
        "training_phase =model.fit(train_X_imp, train_y,epochs=25, batch_size=1,  validation_split=0.2, verbose=1)"
      ],
      "execution_count": null,
      "outputs": [
        {
          "output_type": "stream",
          "text": [
            "Train on 2791 samples, validate on 698 samples\n",
            "Epoch 1/25\n",
            "2791/2791 [==============================] - 3s 1ms/step - loss: 0.5448 - accuracy: 0.7234 - auc_3: 0.6867 - val_loss: 0.4944 - val_accuracy: 0.7536 - val_auc_3: 0.7711\n",
            "Epoch 2/25\n",
            "2791/2791 [==============================] - 3s 1ms/step - loss: 0.5031 - accuracy: 0.7531 - auc_3: 0.7838 - val_loss: 0.4958 - val_accuracy: 0.7550 - val_auc_3: 0.7899\n",
            "Epoch 3/25\n",
            "2791/2791 [==============================] - 3s 1ms/step - loss: 0.4927 - accuracy: 0.7517 - auc_3: 0.7935 - val_loss: 0.4868 - val_accuracy: 0.7636 - val_auc_3: 0.7993\n",
            "Epoch 4/25\n",
            "2791/2791 [==============================] - 3s 1ms/step - loss: 0.4889 - accuracy: 0.7585 - auc_3: 0.8022 - val_loss: 0.4795 - val_accuracy: 0.7708 - val_auc_3: 0.8051\n",
            "Epoch 5/25\n",
            "2791/2791 [==============================] - 3s 1ms/step - loss: 0.4861 - accuracy: 0.7582 - auc_3: 0.8069 - val_loss: 0.4667 - val_accuracy: 0.7779 - val_auc_3: 0.8092\n",
            "Epoch 6/25\n",
            "2791/2791 [==============================] - 3s 1ms/step - loss: 0.4783 - accuracy: 0.7710 - auc_3: 0.8116 - val_loss: 0.4641 - val_accuracy: 0.7837 - val_auc_3: 0.8132\n",
            "Epoch 7/25\n",
            "2791/2791 [==============================] - 3s 1ms/step - loss: 0.4748 - accuracy: 0.7675 - auc_3: 0.8149 - val_loss: 0.4681 - val_accuracy: 0.7736 - val_auc_3: 0.8164\n",
            "Epoch 8/25\n",
            "2791/2791 [==============================] - 3s 1ms/step - loss: 0.4715 - accuracy: 0.7678 - auc_3: 0.8170 - val_loss: 0.4684 - val_accuracy: 0.7794 - val_auc_3: 0.8189\n",
            "Epoch 9/25\n",
            "2791/2791 [==============================] - 3s 1ms/step - loss: 0.4685 - accuracy: 0.7678 - auc_3: 0.8198 - val_loss: 0.4606 - val_accuracy: 0.7937 - val_auc_3: 0.8210\n",
            "Epoch 10/25\n",
            "2791/2791 [==============================] - 3s 1ms/step - loss: 0.4665 - accuracy: 0.7739 - auc_3: 0.8221 - val_loss: 0.4674 - val_accuracy: 0.7794 - val_auc_3: 0.8230\n",
            "Epoch 11/25\n",
            "2791/2791 [==============================] - 3s 1ms/step - loss: 0.4635 - accuracy: 0.7736 - auc_3: 0.8241 - val_loss: 0.4612 - val_accuracy: 0.7779 - val_auc_3: 0.8246\n",
            "Epoch 12/25\n",
            "2791/2791 [==============================] - 3s 1ms/step - loss: 0.4588 - accuracy: 0.7757 - auc_3: 0.8253 - val_loss: 0.4584 - val_accuracy: 0.7908 - val_auc_3: 0.8264\n",
            "Epoch 13/25\n",
            "2791/2791 [==============================] - 3s 1ms/step - loss: 0.4569 - accuracy: 0.7822 - auc_3: 0.8274 - val_loss: 0.4650 - val_accuracy: 0.7650 - val_auc_3: 0.8280\n",
            "Epoch 14/25\n",
            "2791/2791 [==============================] - 3s 1ms/step - loss: 0.4506 - accuracy: 0.7847 - auc_3: 0.8287 - val_loss: 0.4791 - val_accuracy: 0.7736 - val_auc_3: 0.8295\n",
            "Epoch 15/25\n",
            "2791/2791 [==============================] - 3s 1ms/step - loss: 0.4502 - accuracy: 0.7825 - auc_3: 0.8303 - val_loss: 0.4698 - val_accuracy: 0.7751 - val_auc_3: 0.8308\n",
            "Epoch 16/25\n",
            "2791/2791 [==============================] - 3s 1ms/step - loss: 0.4507 - accuracy: 0.7782 - auc_3: 0.8313 - val_loss: 0.4625 - val_accuracy: 0.7880 - val_auc_3: 0.8319\n",
            "Epoch 17/25\n",
            "2791/2791 [==============================] - 3s 1ms/step - loss: 0.4474 - accuracy: 0.7847 - auc_3: 0.8325 - val_loss: 0.4562 - val_accuracy: 0.7837 - val_auc_3: 0.8332\n",
            "Epoch 18/25\n",
            "2791/2791 [==============================] - 3s 1ms/step - loss: 0.4456 - accuracy: 0.7865 - auc_3: 0.8337 - val_loss: 0.4618 - val_accuracy: 0.7665 - val_auc_3: 0.8343\n",
            "Epoch 19/25\n",
            "2791/2791 [==============================] - 3s 1ms/step - loss: 0.4434 - accuracy: 0.7911 - auc_3: 0.8347 - val_loss: 0.4568 - val_accuracy: 0.7966 - val_auc_3: 0.8354\n",
            "Epoch 20/25\n",
            "2791/2791 [==============================] - 3s 1ms/step - loss: 0.4408 - accuracy: 0.7922 - auc_3: 0.8358 - val_loss: 0.4531 - val_accuracy: 0.7980 - val_auc_3: 0.8366\n",
            "Epoch 21/25\n",
            "2791/2791 [==============================] - 3s 1ms/step - loss: 0.4379 - accuracy: 0.7793 - auc_3: 0.8370 - val_loss: 0.4770 - val_accuracy: 0.7794 - val_auc_3: 0.8376\n",
            "Epoch 22/25\n",
            "2791/2791 [==============================] - 3s 1ms/step - loss: 0.4346 - accuracy: 0.7904 - auc_3: 0.8379 - val_loss: 0.4768 - val_accuracy: 0.7808 - val_auc_3: 0.8385\n",
            "Epoch 23/25\n",
            "2791/2791 [==============================] - 3s 1ms/step - loss: 0.4365 - accuracy: 0.7918 - auc_3: 0.8389 - val_loss: 0.4682 - val_accuracy: 0.7822 - val_auc_3: 0.8393\n",
            "Epoch 24/25\n",
            "2791/2791 [==============================] - 3s 1ms/step - loss: 0.4335 - accuracy: 0.7825 - auc_3: 0.8398 - val_loss: 0.4613 - val_accuracy: 0.7650 - val_auc_3: 0.8401\n",
            "Epoch 25/25\n",
            "2791/2791 [==============================] - 3s 1ms/step - loss: 0.4313 - accuracy: 0.7900 - auc_3: 0.8406 - val_loss: 0.4607 - val_accuracy: 0.7908 - val_auc_3: 0.8410\n"
          ],
          "name": "stdout"
        }
      ]
    },
    {
      "cell_type": "code",
      "metadata": {
        "id": "hK7UbFtu888V",
        "colab_type": "code",
        "colab": {
          "base_uri": "https://localhost:8080/",
          "height": 546
        },
        "outputId": "0923e589-968b-4ab1-c7bd-cc176e54d3e8"
      },
      "source": [
        "    import matplotlib.pyplot as pyplot\n",
        "    \n",
        "    # plot training history\n",
        "    print(\"loss\")\n",
        "    pyplot.plot(training_phase.history['loss'], label='train')\n",
        "    pyplot.plot(training_phase.history['val_loss'], label='validation')\n",
        "    pyplot.legend()\n",
        "    pyplot.show()\n",
        "    \n",
        "    print(\"Accuracy\")\n",
        "    pyplot.plot(training_phase.history['accuracy'], label='train')\n",
        "    pyplot.plot(training_phase.history['val_accuracy'], label='validation')\n",
        "    pyplot.legend()\n",
        "    pyplot.show()"
      ],
      "execution_count": null,
      "outputs": [
        {
          "output_type": "stream",
          "text": [
            "loss\n"
          ],
          "name": "stdout"
        },
        {
          "output_type": "display_data",
          "data": {
            "image/png": "[encoded data removed]",
            "text/plain": [
              "<Figure size 432x288 with 1 Axes>"
            ]
          },
          "metadata": {
            "tags": [],
            "needs_background": "light"
          }
        },
        {
          "output_type": "stream",
          "text": [
            "Accuracy\n"
          ],
          "name": "stdout"
        },
        {
          "output_type": "display_data",
          "data": {
            "image/png": "[encoded data removed]",
            "text/plain": [
              "<Figure size 432x288 with 1 Axes>"
            ]
          },
          "metadata": {
            "tags": [],
            "needs_background": "light"
          }
        }
      ]
    },
    {
      "cell_type": "code",
      "metadata": {
        "id": "ua4TETIH888Z",
        "colab_type": "code",
        "colab": {
          "base_uri": "https://localhost:8080/",
          "height": 54
        },
        "outputId": "4a07298e-f55e-490c-a40f-0f46883b222b"
      },
      "source": [
        "    #TEST SET\n",
        "    t= pd.read_csv('https://raw.githubusercontent.com/serivan/mldmlab/master/Datasets/Kaggle2020/test.csv')\n",
        "    t.to_csv('test.csv', index=False)\n",
        "\n",
        "    #sistemo csv\n",
        "    with open('test.csv') as f_in, open('new_test.csv', 'w') as f_out:\n",
        "        #crea il nuovo csv\n",
        "        filewriter = csv.writer(f_out, delimiter=',')\n",
        "        # Write header unchanged\n",
        "        header = f_in.readline()\n",
        "        f_out.write(header)\n",
        "\n",
        "        reader = csv.reader(f_in)\n",
        "        lines = list(reader)\n",
        "\n",
        "        for line in lines:\n",
        "            if line[2] != '' and float(line[2])>100:\n",
        "                line[2]=float(line[2])/1000\n",
        "            if line[8] != '' and float(line[8])>100:\n",
        "                line[8]=float(line[8])/1000\n",
        "\n",
        "        writer = csv.writer(f_out)\n",
        "        writer.writerows(lines)\n",
        "\n",
        "    f_in.close()\n",
        "    f_out.close()\n",
        "\n",
        "    test = pd.read_csv('new_test.csv')\n",
        "    # Treat the test data in the same way as training data. In this case, pull same columns.\n",
        "    test_X = test[predictor_cols]\n",
        "\n",
        "    test_X_std = scaler.transform(test_X)\n",
        "\n",
        "    # Impute each test item, then predict\n",
        "    test_X_imp = imp.transform(test_X_std)\n",
        "\n",
        "    # Use the model to make predictions\n",
        "    predicted_q = model.predict(test_X_imp)\n",
        "    # We will look at the predicted Qualities to ensure we have something sensible.\n",
        "    predicted_q = [round(x[0]) for x in predicted_q]\n",
        "\n",
        "    for i in range (0,len(predicted_q)):\n",
        "        predicted_q[i]=int(predicted_q[i])\n",
        "\n",
        "    print(predicted_q)\n",
        "\n",
        "    #prepare kaggle submission\n",
        "    my_submission = pd.DataFrame({'Id': test.Id, 'Quality': predicted_q})\n",
        "    # you could use any filename. We choose submission here\n",
        "    my_submission.to_csv('keras4.csv', index=False)"
      ],
      "execution_count": null,
      "outputs": [
        {
          "output_type": "stream",
          "text": [
            "[1, 1, 1, 1, 1, 1, 1, 0, 1, 1, 0, 1, 1, 0, 1, 0, 1, 1, 0, 1, 1, 0, 1, 1, 1, 1, 1, 1, 0, 1, 1, 0, 1, 1, 0, 0, 0, 1, 1, 0, 1, 0, 1, 1, 1, 0, 1, 1, 1, 1, 0, 0, 1, 0, 1, 1, 1, 1, 1, 0, 1, 0, 1, 1, 1, 0, 1, 1, 0, 1, 1, 1, 1, 0, 1, 1, 0, 1, 1, 1, 1, 1, 1, 0, 1, 1, 0, 0, 0, 0, 1, 0, 1, 1, 1, 0, 0, 0, 1, 1, 1, 1, 1, 1, 1, 1, 1, 1, 1, 0, 1, 0, 0, 1, 0, 0, 0, 1, 1, 1, 1, 1, 1, 0, 0, 1, 1, 0, 1, 0, 1, 1, 0, 1, 1, 1, 0, 0, 1, 0, 0, 0, 0, 1, 1, 1, 0, 0, 1, 1, 1, 1, 0, 1, 1, 1, 1, 1, 1, 0, 1, 1, 1, 0, 0, 1, 1, 1, 1, 1, 1, 1, 1, 1, 1, 1, 1, 1, 0, 1, 0, 1, 1, 0, 1, 1, 0, 0, 0, 1, 1, 1, 1, 0, 1, 1, 1, 0, 1, 1, 0, 1, 0, 0, 0, 1, 0, 1, 1, 1, 1, 1, 0, 1, 1, 1, 0, 1, 0, 1, 1, 1, 1, 1, 0, 1, 1, 1, 1, 0, 1, 1, 1, 1, 1, 1, 0, 1, 1, 0, 0, 0, 0, 1, 0, 1, 1, 0, 1, 1, 1, 1, 0, 1, 0, 0, 1, 1, 1, 1, 0, 1, 0, 1, 0, 1, 1, 1, 1, 1, 0, 0, 1, 1, 1, 0, 1, 1, 1, 0, 0, 1, 0, 1, 1, 1, 0, 1, 1, 1, 1, 1, 1, 0, 0, 1, 1, 0, 1, 1, 1, 1, 1, 1, 1, 1, 0, 1, 1, 1, 0, 1, 1, 1, 1, 0, 1, 0, 1, 0, 1, 1, 1, 1, 1, 1, 1, 0, 0, 1, 0, 1, 0, 1, 0, 0, 0, 1, 1, 1, 1, 1, 1, 1, 1, 0, 1, 1, 1, 1, 0, 1, 1, 0, 1, 1, 1, 0, 1, 0, 1, 1, 0, 1, 0, 1, 1, 1, 1, 0, 1, 1, 1, 1, 1, 0, 1, 1, 1, 1, 1, 1, 1, 1, 1, 1, 0, 1, 0, 1, 0, 0, 1, 1, 1, 1, 1, 1, 0, 0, 1, 0, 0, 1, 1, 0, 0, 1, 0, 1, 1, 1, 1, 1, 1, 0, 1, 1, 1, 1, 1, 1, 1, 1, 1, 1, 0, 0, 0, 0, 1, 1, 1, 1, 0, 0, 1, 1, 0, 1, 1, 1, 1, 0, 0, 0, 1, 0, 0, 1, 0, 0, 0, 1, 1, 1, 0, 1, 0, 1, 1, 1, 1, 1, 0, 1, 1, 0, 0, 0, 1, 0, 1, 1, 1, 1, 1, 1, 1, 1, 1, 1, 1, 1, 0, 1, 1, 1, 0, 1, 0, 1, 0, 0, 0, 1, 1, 1, 1, 1, 1, 1, 1, 1, 1, 1, 0, 0, 1, 1, 1, 0, 0, 1, 1, 1, 1, 1, 0, 1, 1, 1, 0, 1, 0, 1, 1, 1, 1, 1, 0, 1, 1, 1, 1, 0, 1, 1, 1, 0, 0, 1, 1, 0, 0, 0, 1, 1, 1, 1, 1, 1, 1, 1, 0, 1, 1, 1, 1, 1, 0, 1, 0, 1, 1, 1, 1, 1, 1, 0, 0, 1, 0, 1, 1, 1, 1, 0, 0, 1, 0, 1, 1, 0, 1, 1, 1, 0, 1, 0, 1, 1, 0, 0, 1, 0, 0, 0, 1, 0, 1, 1, 1, 0, 1, 0, 0, 0, 1, 0, 1, 1, 0, 0, 0, 1, 0, 0, 1, 1, 0, 1, 1, 1, 0, 0, 0, 1, 1, 0, 1, 1, 1, 1, 0, 1, 1, 1, 1, 0, 1, 1, 1, 0, 0, 1, 1, 0, 1, 1, 1, 0, 1, 1, 0, 1, 1, 1, 1, 0, 1, 0, 0, 0, 0, 0, 1, 1, 1, 1, 0, 1, 0, 1, 1, 1, 1, 1, 0, 0, 1, 1, 1, 1, 1, 1, 0, 1, 0, 1, 0, 0, 0, 1, 1, 1, 1, 1, 1, 1, 0, 0, 1, 1, 1, 1, 0, 0, 1, 1, 1, 1, 1, 0, 1, 1, 0, 0, 1, 1, 0, 1, 0, 1, 1, 1, 1, 1, 1, 1, 1, 1, 1, 1, 1, 1, 1, 0, 0, 1, 0, 1, 1, 1, 0, 1, 1, 0, 0, 0, 0, 1, 0, 1, 1, 1, 1, 1, 1, 1, 0, 1, 1, 1, 1, 1, 1, 1, 1, 0, 0, 0, 1, 1, 0, 1, 1, 1, 1, 1, 1, 1, 0, 0, 0, 1, 1, 1, 1, 1, 1, 1, 1, 1, 1, 1, 0, 1, 1, 1, 1, 1, 1, 1, 1, 0, 1, 1, 1, 0, 1, 1, 0, 1, 0, 0, 0, 1, 1, 1, 1, 0, 1, 1, 0, 1, 1, 1, 1, 0, 1, 1, 0, 1, 1, 1, 1, 1, 1, 1, 1, 1, 1, 1, 0, 0, 0, 1, 1, 1, 1, 0, 0, 0, 0, 1, 0, 1, 0, 1, 1, 1, 1, 0, 1, 1, 1, 0, 1, 1, 1, 1, 1, 1, 1, 1, 1, 1, 1, 1, 1, 1, 1, 1, 0, 1, 1, 1, 1, 1, 1, 1, 0, 1, 0, 0, 1, 1, 1, 1, 0, 1, 0, 1, 1, 1, 0, 1, 1, 1, 1, 0, 0, 1, 1, 1, 1, 1, 0, 0, 1, 0, 1, 0, 1, 1, 1, 0, 1, 1, 1, 0, 1, 0, 0, 1, 1, 1, 1, 1, 1, 1, 0, 1, 1, 0, 1, 1, 1, 0, 1, 1, 1, 1, 1, 1, 1, 1, 1, 1, 1, 1, 1, 1, 1, 0, 0, 1, 1, 0, 1, 1, 0, 1, 1, 0, 0, 0, 0, 1, 0, 0, 1, 1, 1, 1, 1, 0, 1, 1, 1, 0, 1, 1, 1, 1, 1, 0, 0, 0, 1, 0, 1, 0, 1, 1, 1, 0, 0, 0, 1, 0, 1, 1, 1, 1, 1, 1, 1, 1, 1, 0, 0, 1, 1, 1, 1, 0, 1, 0, 1, 1, 1, 0, 1, 1, 0, 0, 1, 1, 0, 0, 1, 0, 1, 1, 1, 1, 1, 0, 1, 1, 1, 1, 1, 1, 1, 1, 1, 1, 0, 1, 1, 0, 1, 0, 0, 0, 1, 1, 0, 1, 1, 1, 1, 1, 1, 1, 1, 0, 1, 1, 1, 1, 1, 1, 1, 1, 1, 1, 1, 1, 1, 0, 1, 1, 1, 1, 1, 0, 1, 1, 0, 1, 1, 1, 0, 1, 1, 0, 1, 0, 1, 0, 1, 1, 1, 1, 0, 1, 0, 0, 0, 1, 1, 1, 1, 0, 1, 1, 0, 1, 1, 1, 1, 0, 1, 1, 1, 1, 1, 1, 1, 1, 0, 1, 1, 1, 0, 0, 1, 1, 1, 0, 1, 1, 1, 1, 1, 1, 0, 1, 1, 1]\n"
          ],
          "name": "stdout"
        }
      ]
    }
  ]
}