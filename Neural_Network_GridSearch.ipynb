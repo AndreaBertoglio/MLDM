{
  "nbformat": 4,
  "nbformat_minor": 0,
  "metadata": {
    "colab": {
      "name": "Neural_Network_GridSearch",
      "provenance": [],
      "collapsed_sections": [],
      "authorship_tag": "ABX9TyOOOtG+IykOY26qODM56dn7",
      "include_colab_link": true
    },
    "kernelspec": {
      "name": "python3",
      "display_name": "Python 3"
    }
  },
  "cells": [
    {
      "cell_type": "markdown",
      "metadata": {
        "id": "view-in-github",
        "colab_type": "text"
      },
      "source": [
        "<a href=\"https://colab.research.google.com/github/AndreaBertoglio/MLDM/blob/master/Neural_Network_GridSearch.ipynb\" target=\"_parent\"><img src=\"https://colab.research.google.com/assets/colab-badge.svg\" alt=\"Open In Colab\"/></a>"
      ]
    },
    {
      "cell_type": "markdown",
      "metadata": {
        "id": "7xUTuffYn4l-",
        "colab_type": "text"
      },
      "source": [
        "# NEURAL NETWORK"
      ]
    },
    {
      "cell_type": "markdown",
      "metadata": {
        "id": "LJu-lgQAnwHG",
        "colab_type": "text"
      },
      "source": [
        "### Import"
      ]
    },
    {
      "cell_type": "code",
      "metadata": {
        "id": "bLUdBeREnrI1",
        "colab_type": "code",
        "colab": {}
      },
      "source": [
        "import csv\n",
        "import pandas as pd \n",
        "from sklearn.preprocessing import StandardScaler\n",
        "from sklearn.impute import SimpleImputer\n",
        "import numpy as np\n",
        "\n",
        "import tensorflow as tf\n",
        "# Import `Sequential` from `keras.models`\n",
        "from keras.models import Sequential\n",
        "# Import `Dense` from `keras.layers`\n",
        "from keras.layers import Dense\n",
        "# KerasClassifier necessario per GridSearch\n",
        "from keras.wrappers.scikit_learn import KerasClassifier\n",
        "\n",
        "# Import GridSearch\n",
        "from sklearn.model_selection import GridSearchCV\n",
        "from sklearn.model_selection import StratifiedKFold\n",
        "\n",
        "# Import confusion matrix and other\n",
        "from sklearn.metrics import classification_report, confusion_matrix"
      ],
      "execution_count": 1,
      "outputs": []
    },
    {
      "cell_type": "markdown",
      "metadata": {
        "id": "ymRF6yzmsqhX",
        "colab_type": "text"
      },
      "source": [
        "### Preparazione dei dati"
      ]
    },
    {
      "cell_type": "code",
      "metadata": {
        "id": "LpgXnnoyso_T",
        "colab_type": "code",
        "colab": {
          "base_uri": "https://localhost:8080/",
          "height": 36
        },
        "outputId": "3bc1c32f-2c5b-4218-e587-91a938c269f9"
      },
      "source": [
        "t= pd.read_csv('https://raw.githubusercontent.com/serivan/mldmlab/master/Datasets/Kaggle2020/train.csv')\n",
        "t.to_csv('train.csv', index=False)\n",
        "\n",
        "#sistemo CSV\n",
        "with open('train.csv') as f_in, open('new_train.csv', 'w') as f_out:\n",
        "    #crea il nuovo csv\n",
        "    filewriter = csv.writer(f_out, delimiter=',')\n",
        "    # Write header unchanged\n",
        "    header = f_in.readline()\n",
        "    f_out.write(header)\n",
        "\n",
        "    reader = csv.reader(f_in)\n",
        "    lines = list(reader)\n",
        "\n",
        "    for line in lines:\n",
        "        if line[2] != '' and float(line[2])>100:\n",
        "            line[2]=float(line[2])/1000\n",
        "        if line[8] != '' and float(line[8])>100:\n",
        "            line[8]=float(line[8])/1000\n",
        "    \n",
        "    writer = csv.writer(f_out)\n",
        "    writer.writerows(lines)\n",
        "\n",
        "f_in.close()\n",
        "f_out.close()\n",
        "\n",
        "\n",
        "train = pd.read_csv('new_train.csv')\n",
        "# pull data into target (y) and predictors (X)\n",
        "train[\"Quality\"] = np.where(train[\"Quality\"].str.contains(\"Good\"), 1, 0)\n",
        "train_y = train.Quality\n",
        "#tengo volatile e density perchè li ho sistemati\n",
        "predictor_cols = ['fixed.acidity','volatile.acidity','citric.acid','residual.sugar','chlorides','free.sulfur.dioxide',\n",
        "                  'total.sulfur.dioxide','density','pH','sulphates','alcohol']\n",
        "# Create training predictors data\n",
        "train_X = train[predictor_cols]\n",
        "\n",
        "scaler = StandardScaler()\n",
        "\n",
        "train_X_std = scaler.fit_transform(train_X)\n",
        "\n",
        "# Create our imputer to replace missing values with the mean e.g.\n",
        "imp = SimpleImputer(missing_values=np.nan, strategy='mean')\n",
        "#imp = SimpleImputer(missing_values=np.nan, strategy='most_frequent')\n",
        "imp = imp.fit(train_X_std)\n",
        "\n",
        "# Impute our data, then train\n",
        "train_X_imp = imp.transform(train_X_std)\n",
        "print(train_X_imp.shape)"
      ],
      "execution_count": 2,
      "outputs": [
        {
          "output_type": "stream",
          "text": [
            "(3489, 11)\n"
          ],
          "name": "stdout"
        }
      ]
    },
    {
      "cell_type": "markdown",
      "metadata": {
        "id": "4suZN7Q2n-Fb",
        "colab_type": "text"
      },
      "source": [
        "### Funzione di creazione del modello\n",
        "createModel()"
      ]
    },
    {
      "cell_type": "code",
      "metadata": {
        "id": "cXYgDmsFn-pW",
        "colab_type": "code",
        "colab": {}
      },
      "source": [
        "def createModel(hidden_layers=0, input_neurons=8, hidden_neurons=8, activation_fun='relu', _optimizer='SGD'):\n",
        "  # Initialize the constructor\n",
        "  model = Sequential()\n",
        "\n",
        "  # Add an input layer \n",
        "  model.add(Dense(input_neurons, activation=activation_fun, input_shape=(11,)))\n",
        "\n",
        "  # Add hidden layers\n",
        "  for i in range(hidden_layers): \n",
        "    model.add(Dense(hidden_neurons, activation=activation_fun))\n",
        "\n",
        "  # Add an output layer \n",
        "  model.add(Dense(1, activation='sigmoid'))   \n",
        "  \n",
        "  #Compile model\n",
        "  model.compile(loss='binary_crossentropy',\n",
        "              optimizer=_optimizer,\n",
        "              metrics=['accuracy',tf.keras.metrics.AUC()])\n",
        "\n",
        "  return model"
      ],
      "execution_count": 5,
      "outputs": []
    },
    {
      "cell_type": "markdown",
      "metadata": {
        "id": "zY1q5_w2p5tE",
        "colab_type": "text"
      },
      "source": [
        "### Preparazione della grid search"
      ]
    },
    {
      "cell_type": "markdown",
      "metadata": {
        "id": "0p7C1B2tAQ00",
        "colab_type": "text"
      },
      "source": [
        "#### Parameter"
      ]
    },
    {
      "cell_type": "code",
      "metadata": {
        "id": "nYdqGJeQAPtJ",
        "colab_type": "code",
        "colab": {}
      },
      "source": [
        "# epochs: numero di epoche per il train della rete\n",
        "# batch_size: ogni quanto fare back propagation [maggiore o uguale a 1]\n",
        "# input_neurons: quanti neuroni inserire nello strato di input [maggiore o uguale a 1]\n",
        "# hidden_layers: numero di livelli nascosti (interni) [intero non negativo]\n",
        "# hidden_neurons: quanti neuroni inserire negli strati interni [maggiore o uguale a 1]\n",
        "#_optimizer: algoritmo di ottimizzazione usato ['SGD', 'RMSprop', 'Adagrad', 'Adadelta', 'Adam', 'Adamax', 'Nadam']\n",
        "# activation_fun: funzione di attivazione dei neuroni ['softmax', 'softplus', 'softsign', 'relu', 'tanh', 'sigmoid', 'hard_sigmoid', 'linear']"
      ],
      "execution_count": null,
      "outputs": []
    },
    {
      "cell_type": "code",
      "metadata": {
        "id": "g1ff5EF2qATa",
        "colab_type": "code",
        "colab": {}
      },
      "source": [
        "parameter_grid = {'epochs': [15],\n",
        "                  'batch_size': [1],\n",
        "                  'input_neurons': [24],\n",
        "                  'hidden_neurons': [8],\n",
        "                  'hidden_layers': [1],\n",
        "                  '_optimizer': ['SGD'],\n",
        "                  'activation_fun': ['tanh']}\n",
        "\n",
        "\n",
        "\n",
        "#Create the scoring dictionary\n",
        "SCORING = {'f1': 'f1_macro',\n",
        "          'accuracy': 'accuracy',\n",
        "          'balanced_accuracy': 'balanced_accuracy',\n",
        "          'precision': 'precision_macro',\n",
        "          'recall': 'recall_macro'}"
      ],
      "execution_count": 4,
      "outputs": []
    },
    {
      "cell_type": "markdown",
      "metadata": {
        "id": "qjPSwcRBBqcv",
        "colab_type": "text"
      },
      "source": [
        "#### Cross validation"
      ]
    },
    {
      "cell_type": "code",
      "metadata": {
        "id": "3evuNotqBp0p",
        "colab_type": "code",
        "colab": {
          "base_uri": "https://localhost:8080/",
          "height": 36
        },
        "outputId": "1a98abbd-3c37-4beb-ddc2-0c00227a8258"
      },
      "source": [
        "cross_validation = StratifiedKFold(n_splits=3)\n",
        "cross_validation.get_n_splits(train_X_imp, train_y)"
      ],
      "execution_count": 6,
      "outputs": [
        {
          "output_type": "execute_result",
          "data": {
            "text/plain": [
              "3"
            ]
          },
          "metadata": {
            "tags": []
          },
          "execution_count": 6
        }
      ]
    },
    {
      "cell_type": "markdown",
      "metadata": {
        "id": "kYB0zQnHBwjn",
        "colab_type": "text"
      },
      "source": [
        "#### Grid search"
      ]
    },
    {
      "cell_type": "code",
      "metadata": {
        "id": "nyfe4pQ_rLtv",
        "colab_type": "code",
        "colab": {
          "base_uri": "https://localhost:8080/",
          "height": 1000
        },
        "outputId": "41dcba6f-f2c6-43b7-c8b8-7adcc5847c3a"
      },
      "source": [
        "model = KerasClassifier(build_fn=createModel, verbose=1)\n",
        "\n",
        "#grid_search = GridSearchCV(model, param_grid=parameter_grid, cv=cross_validation, )\n",
        "grid_search = GridSearchCV(model, param_grid=parameter_grid, cv=cross_validation, scoring=SCORING, return_train_score=True, refit='accuracy')\n",
        "\n",
        "grid_search.fit(train_X_imp, train_y)"
      ],
      "execution_count": 7,
      "outputs": [
        {
          "output_type": "stream",
          "text": [
            "Epoch 1/15\n",
            "2326/2326 [==============================] - 2s 879us/step - loss: 0.5239 - accuracy: 0.7279 - auc: 0.7857\n",
            "Epoch 2/15\n",
            "2326/2326 [==============================] - 2s 909us/step - loss: 0.5021 - accuracy: 0.7451 - auc: 0.8081\n",
            "Epoch 3/15\n",
            "2326/2326 [==============================] - 2s 834us/step - loss: 0.4896 - accuracy: 0.7623 - auc: 0.8199\n",
            "Epoch 4/15\n",
            "2326/2326 [==============================] - 2s 869us/step - loss: 0.4796 - accuracy: 0.7678 - auc: 0.8283\n",
            "Epoch 5/15\n",
            "2326/2326 [==============================] - 2s 816us/step - loss: 0.4739 - accuracy: 0.7627 - auc: 0.8319\n",
            "Epoch 6/15\n",
            "2326/2326 [==============================] - 2s 837us/step - loss: 0.4679 - accuracy: 0.7743 - auc: 0.8369\n",
            "Epoch 7/15\n",
            "2326/2326 [==============================] - 2s 884us/step - loss: 0.4643 - accuracy: 0.7721 - auc: 0.8400\n",
            "Epoch 8/15\n",
            "2326/2326 [==============================] - 2s 800us/step - loss: 0.4598 - accuracy: 0.7799 - auc: 0.8440\n",
            "Epoch 9/15\n",
            "2326/2326 [==============================] - 2s 813us/step - loss: 0.4525 - accuracy: 0.7812 - auc: 0.8496\n",
            "Epoch 10/15\n",
            "2326/2326 [==============================] - 2s 841us/step - loss: 0.4480 - accuracy: 0.7889 - auc: 0.8531\n",
            "Epoch 11/15\n",
            "2326/2326 [==============================] - 2s 801us/step - loss: 0.4425 - accuracy: 0.7889 - auc: 0.8579\n",
            "Epoch 12/15\n",
            "2326/2326 [==============================] - 2s 814us/step - loss: 0.4429 - accuracy: 0.7919 - auc: 0.8572\n",
            "Epoch 13/15\n",
            "2326/2326 [==============================] - 2s 799us/step - loss: 0.4352 - accuracy: 0.7997 - auc: 0.8638\n",
            "Epoch 14/15\n",
            "2326/2326 [==============================] - 2s 812us/step - loss: 0.4318 - accuracy: 0.7949 - auc: 0.8654\n",
            "Epoch 15/15\n",
            "2326/2326 [==============================] - 2s 876us/step - loss: 0.4267 - accuracy: 0.7997 - auc: 0.8698\n",
            "WARNING:tensorflow:From /usr/local/lib/python3.6/dist-packages/tensorflow/python/keras/wrappers/scikit_learn.py:241: Sequential.predict_classes (from tensorflow.python.keras.engine.sequential) is deprecated and will be removed after 2021-01-01.\n",
            "Instructions for updating:\n",
            "Please use instead:* `np.argmax(model.predict(x), axis=-1)`,   if your model does multi-class classification   (e.g. if it uses a `softmax` last-layer activation).* `(model.predict(x) > 0.5).astype(\"int32\")`,   if your model does binary classification   (e.g. if it uses a `sigmoid` last-layer activation).\n",
            "1163/1163 [==============================] - 1s 614us/step\n",
            "2326/2326 [==============================] - 1s 590us/step\n",
            "Epoch 1/15\n",
            "2326/2326 [==============================] - 2s 818us/step - loss: 0.5423 - accuracy: 0.7132 - auc_1: 0.7610\n",
            "Epoch 2/15\n",
            "2326/2326 [==============================] - 2s 829us/step - loss: 0.5132 - accuracy: 0.7382 - auc_1: 0.7961\n",
            "Epoch 3/15\n",
            "2326/2326 [==============================] - 2s 819us/step - loss: 0.5054 - accuracy: 0.7498 - auc_1: 0.8041\n",
            "Epoch 4/15\n",
            "2326/2326 [==============================] - 2s 807us/step - loss: 0.4940 - accuracy: 0.7696 - auc_1: 0.8155\n",
            "Epoch 5/15\n",
            "2326/2326 [==============================] - 2s 833us/step - loss: 0.4860 - accuracy: 0.7627 - auc_1: 0.8219\n",
            "Epoch 6/15\n",
            "2326/2326 [==============================] - 2s 816us/step - loss: 0.4799 - accuracy: 0.7756 - auc_1: 0.8273\n",
            "Epoch 7/15\n",
            "2326/2326 [==============================] - 2s 849us/step - loss: 0.4755 - accuracy: 0.7773 - auc_1: 0.8310\n",
            "Epoch 8/15\n",
            "2326/2326 [==============================] - 2s 809us/step - loss: 0.4683 - accuracy: 0.7747 - auc_1: 0.8366\n",
            "Epoch 9/15\n",
            "2326/2326 [==============================] - 2s 861us/step - loss: 0.4651 - accuracy: 0.7743 - auc_1: 0.8386\n",
            "Epoch 10/15\n",
            "2326/2326 [==============================] - 2s 815us/step - loss: 0.4622 - accuracy: 0.7743 - auc_1: 0.8416\n",
            "Epoch 11/15\n",
            "2326/2326 [==============================] - 2s 853us/step - loss: 0.4568 - accuracy: 0.7859 - auc_1: 0.8454\n",
            "Epoch 12/15\n",
            "2326/2326 [==============================] - 2s 822us/step - loss: 0.4542 - accuracy: 0.7855 - auc_1: 0.8476\n",
            "Epoch 13/15\n",
            "2326/2326 [==============================] - 2s 836us/step - loss: 0.4471 - accuracy: 0.7945 - auc_1: 0.8532\n",
            "Epoch 14/15\n",
            "2326/2326 [==============================] - 2s 835us/step - loss: 0.4410 - accuracy: 0.7971 - auc_1: 0.8574\n",
            "Epoch 15/15\n",
            "2326/2326 [==============================] - 2s 854us/step - loss: 0.4384 - accuracy: 0.7988 - auc_1: 0.8596\n",
            "1163/1163 [==============================] - 1s 554us/step\n",
            "2326/2326 [==============================] - 1s 567us/step\n",
            "Epoch 1/15\n",
            "2326/2326 [==============================] - 2s 828us/step - loss: 0.5368 - accuracy: 0.7240 - auc_2: 0.7678\n",
            "Epoch 2/15\n",
            "2326/2326 [==============================] - 2s 843us/step - loss: 0.5112 - accuracy: 0.7472 - auc_2: 0.7963\n",
            "Epoch 3/15\n",
            "2326/2326 [==============================] - 2s 859us/step - loss: 0.5059 - accuracy: 0.7481 - auc_2: 0.8023\n",
            "Epoch 4/15\n",
            "2326/2326 [==============================] - 2s 844us/step - loss: 0.4984 - accuracy: 0.7532 - auc_2: 0.8096\n",
            "Epoch 5/15\n",
            "2326/2326 [==============================] - 2s 842us/step - loss: 0.4931 - accuracy: 0.7519 - auc_2: 0.8156\n",
            "Epoch 6/15\n",
            "2326/2326 [==============================] - 2s 833us/step - loss: 0.4883 - accuracy: 0.7597 - auc_2: 0.8193\n",
            "Epoch 7/15\n",
            "2326/2326 [==============================] - 2s 886us/step - loss: 0.4837 - accuracy: 0.7610 - auc_2: 0.8231\n",
            "Epoch 8/15\n",
            "2326/2326 [==============================] - 2s 895us/step - loss: 0.4769 - accuracy: 0.7678 - auc_2: 0.8293\n",
            "Epoch 9/15\n",
            "2326/2326 [==============================] - 2s 915us/step - loss: 0.4753 - accuracy: 0.7653 - auc_2: 0.8306\n",
            "Epoch 10/15\n",
            "2326/2326 [==============================] - 2s 899us/step - loss: 0.4719 - accuracy: 0.7721 - auc_2: 0.8339\n",
            "Epoch 11/15\n",
            "2326/2326 [==============================] - 2s 847us/step - loss: 0.4675 - accuracy: 0.7696 - auc_2: 0.8367\n",
            "Epoch 12/15\n",
            "2326/2326 [==============================] - 2s 829us/step - loss: 0.4623 - accuracy: 0.7782 - auc_2: 0.8426\n",
            "Epoch 13/15\n",
            "2326/2326 [==============================] - 2s 919us/step - loss: 0.4563 - accuracy: 0.7803 - auc_2: 0.8470\n",
            "Epoch 14/15\n",
            "2326/2326 [==============================] - 2s 881us/step - loss: 0.4532 - accuracy: 0.7846 - auc_2: 0.8493\n",
            "Epoch 15/15\n",
            "2326/2326 [==============================] - 2s 838us/step - loss: 0.4488 - accuracy: 0.7799 - auc_2: 0.8527\n",
            "1163/1163 [==============================] - 1s 571us/step\n",
            "2326/2326 [==============================] - 1s 565us/step\n",
            "Epoch 1/15\n",
            "3489/3489 [==============================] - 3s 867us/step - loss: 0.5294 - accuracy: 0.7260 - auc_3: 0.7791\n",
            "Epoch 2/15\n",
            "3489/3489 [==============================] - 3s 880us/step - loss: 0.5041 - accuracy: 0.7547 - auc_3: 0.8056\n",
            "Epoch 3/15\n",
            "3489/3489 [==============================] - 3s 898us/step - loss: 0.4939 - accuracy: 0.7532 - auc_3: 0.8145\n",
            "Epoch 4/15\n",
            "3489/3489 [==============================] - 3s 846us/step - loss: 0.4847 - accuracy: 0.7676 - auc_3: 0.8228\n",
            "Epoch 5/15\n",
            "3489/3489 [==============================] - 3s 829us/step - loss: 0.4794 - accuracy: 0.7698 - auc_3: 0.8276\n",
            "Epoch 6/15\n",
            "3489/3489 [==============================] - 3s 904us/step - loss: 0.4762 - accuracy: 0.7681 - auc_3: 0.8300\n",
            "Epoch 7/15\n",
            "3489/3489 [==============================] - 3s 841us/step - loss: 0.4712 - accuracy: 0.7750 - auc_3: 0.8341\n",
            "Epoch 8/15\n",
            "3489/3489 [==============================] - 3s 817us/step - loss: 0.4673 - accuracy: 0.7819 - auc_3: 0.8381\n",
            "Epoch 9/15\n",
            "3489/3489 [==============================] - 3s 814us/step - loss: 0.4647 - accuracy: 0.7810 - auc_3: 0.8400\n",
            "Epoch 10/15\n",
            "3489/3489 [==============================] - 3s 850us/step - loss: 0.4601 - accuracy: 0.7853 - auc_3: 0.8440\n",
            "Epoch 11/15\n",
            "3489/3489 [==============================] - 3s 870us/step - loss: 0.4577 - accuracy: 0.7819 - auc_3: 0.8453\n",
            "Epoch 12/15\n",
            "3489/3489 [==============================] - 3s 878us/step - loss: 0.4551 - accuracy: 0.7899 - auc_3: 0.8479\n",
            "Epoch 13/15\n",
            "3489/3489 [==============================] - 3s 820us/step - loss: 0.4513 - accuracy: 0.7913 - auc_3: 0.8508\n",
            "Epoch 14/15\n",
            "3489/3489 [==============================] - 3s 911us/step - loss: 0.4506 - accuracy: 0.7862 - auc_3: 0.8509\n",
            "Epoch 15/15\n",
            "3489/3489 [==============================] - 3s 935us/step - loss: 0.4473 - accuracy: 0.7942 - auc_3: 0.8534\n"
          ],
          "name": "stdout"
        },
        {
          "output_type": "execute_result",
          "data": {
            "text/plain": [
              "GridSearchCV(cv=StratifiedKFold(n_splits=3, random_state=None, shuffle=False),\n",
              "             error_score=nan,\n",
              "             estimator=<tensorflow.python.keras.wrappers.scikit_learn.KerasClassifier object at 0x7f5b4a57de80>,\n",
              "             iid='deprecated', n_jobs=None,\n",
              "             param_grid={'_optimizer': ['SGD'], 'activation_fun': ['tanh'],\n",
              "                         'batch_size': [1], 'epochs': [15],\n",
              "                         'hidden_layers': [1], 'hidden_neurons': [8],\n",
              "                         'input_neurons': [24]},\n",
              "             pre_dispatch='2*n_jobs', refit='accuracy', return_train_score=True,\n",
              "             scoring={'accuracy': 'accuracy',\n",
              "                      'balanced_accuracy': 'balanced_accuracy',\n",
              "                      'f1': 'f1_macro', 'precision': 'precision_macro',\n",
              "                      'recall': 'recall_macro'},\n",
              "             verbose=0)"
            ]
          },
          "metadata": {
            "tags": []
          },
          "execution_count": 7
        }
      ]
    },
    {
      "cell_type": "markdown",
      "metadata": {
        "id": "RkjWw8HntF8o",
        "colab_type": "text"
      },
      "source": [
        "## Risultati GridSearch"
      ]
    },
    {
      "cell_type": "markdown",
      "metadata": {
        "id": "Z1EM_nWWtWeC",
        "colab_type": "text"
      },
      "source": [
        "### Generale"
      ]
    },
    {
      "cell_type": "code",
      "metadata": {
        "id": "Fcxl78_btEuP",
        "colab_type": "code",
        "colab": {
          "base_uri": "https://localhost:8080/",
          "height": 1000
        },
        "outputId": "7cb7d6ac-b2e6-4785-a65f-5a199021078f"
      },
      "source": [
        "grid_search.cv_results_"
      ],
      "execution_count": 8,
      "outputs": [
        {
          "output_type": "execute_result",
          "data": {
            "text/plain": [
              "{'mean_fit_time': array([30.33271106]),\n",
              " 'mean_score_time': array([0.75352526]),\n",
              " 'mean_test_accuracy': array([0.75465749]),\n",
              " 'mean_test_balanced_accuracy': array([0.71975099]),\n",
              " 'mean_test_f1': array([0.72229164]),\n",
              " 'mean_test_precision': array([0.73159429]),\n",
              " 'mean_test_recall': array([0.71975099]),\n",
              " 'mean_train_accuracy': array([0.80252221]),\n",
              " 'mean_train_balanced_accuracy': array([0.77211384]),\n",
              " 'mean_train_f1': array([0.77695119]),\n",
              " 'mean_train_precision': array([0.78619607]),\n",
              " 'mean_train_recall': array([0.77211384]),\n",
              " 'param__optimizer': masked_array(data=['SGD'],\n",
              "              mask=[False],\n",
              "        fill_value='?',\n",
              "             dtype=object),\n",
              " 'param_activation_fun': masked_array(data=['tanh'],\n",
              "              mask=[False],\n",
              "        fill_value='?',\n",
              "             dtype=object),\n",
              " 'param_batch_size': masked_array(data=[1],\n",
              "              mask=[False],\n",
              "        fill_value='?',\n",
              "             dtype=object),\n",
              " 'param_epochs': masked_array(data=[15],\n",
              "              mask=[False],\n",
              "        fill_value='?',\n",
              "             dtype=object),\n",
              " 'param_hidden_layers': masked_array(data=[1],\n",
              "              mask=[False],\n",
              "        fill_value='?',\n",
              "             dtype=object),\n",
              " 'param_hidden_neurons': masked_array(data=[8],\n",
              "              mask=[False],\n",
              "        fill_value='?',\n",
              "             dtype=object),\n",
              " 'param_input_neurons': masked_array(data=[24],\n",
              "              mask=[False],\n",
              "        fill_value='?',\n",
              "             dtype=object),\n",
              " 'params': [{'_optimizer': 'SGD',\n",
              "   'activation_fun': 'tanh',\n",
              "   'batch_size': 1,\n",
              "   'epochs': 15,\n",
              "   'hidden_layers': 1,\n",
              "   'hidden_neurons': 8,\n",
              "   'input_neurons': 24}],\n",
              " 'rank_test_accuracy': array([1], dtype=int32),\n",
              " 'rank_test_balanced_accuracy': array([1], dtype=int32),\n",
              " 'rank_test_f1': array([1], dtype=int32),\n",
              " 'rank_test_precision': array([1], dtype=int32),\n",
              " 'rank_test_recall': array([1], dtype=int32),\n",
              " 'split0_test_accuracy': array([0.74978504]),\n",
              " 'split0_test_balanced_accuracy': array([0.70025529]),\n",
              " 'split0_test_f1': array([0.70842965]),\n",
              " 'split0_test_precision': array([0.72579427]),\n",
              " 'split0_test_recall': array([0.70025529]),\n",
              " 'split0_train_accuracy': array([0.8116939]),\n",
              " 'split0_train_balanced_accuracy': array([0.77407686]),\n",
              " 'split0_train_f1': array([0.78345204]),\n",
              " 'split0_train_precision': array([0.7986961]),\n",
              " 'split0_train_recall': array([0.77407686]),\n",
              " 'split1_test_accuracy': array([0.76010318]),\n",
              " 'split1_test_balanced_accuracy': array([0.71459392]),\n",
              " 'split1_test_f1': array([0.72252338]),\n",
              " 'split1_test_precision': array([0.73752307]),\n",
              " 'split1_test_recall': array([0.71459392]),\n",
              " 'split1_train_accuracy': array([0.80395529]),\n",
              " 'split1_train_balanced_accuracy': array([0.76463508]),\n",
              " 'split1_train_f1': array([0.77406701]),\n",
              " 'split1_train_precision': array([0.78990355]),\n",
              " 'split1_train_recall': array([0.76463508]),\n",
              " 'split2_test_accuracy': array([0.75408426]),\n",
              " 'split2_test_balanced_accuracy': array([0.74440375]),\n",
              " 'split2_test_f1': array([0.73592189]),\n",
              " 'split2_test_precision': array([0.73146553]),\n",
              " 'split2_test_recall': array([0.74440375]),\n",
              " 'split2_train_accuracy': array([0.79191745]),\n",
              " 'split2_train_balanced_accuracy': array([0.77762959]),\n",
              " 'split2_train_f1': array([0.77333451]),\n",
              " 'split2_train_precision': array([0.76998856]),\n",
              " 'split2_train_recall': array([0.77762959]),\n",
              " 'std_fit_time': array([0.51562962]),\n",
              " 'std_score_time': array([0.04891121]),\n",
              " 'std_test_accuracy': array([0.00423182]),\n",
              " 'std_test_balanced_accuracy': array([0.01838873]),\n",
              " 'std_test_f1': array([0.01122486]),\n",
              " 'std_test_precision': array([0.00478913]),\n",
              " 'std_test_recall': array([0.01838873]),\n",
              " 'std_train_accuracy': array([0.00813704]),\n",
              " 'std_train_balanced_accuracy': array([0.00548358]),\n",
              " 'std_train_f1': array([0.00460651]),\n",
              " 'std_train_precision': array([0.01200944]),\n",
              " 'std_train_recall': array([0.00548358])}"
            ]
          },
          "metadata": {
            "tags": []
          },
          "execution_count": 8
        }
      ]
    },
    {
      "cell_type": "markdown",
      "metadata": {
        "id": "07FmEk5atPfl",
        "colab_type": "text"
      },
      "source": [
        "### Combinazione migliore"
      ]
    },
    {
      "cell_type": "code",
      "metadata": {
        "id": "kIuBq0zRtOx6",
        "colab_type": "code",
        "colab": {
          "base_uri": "https://localhost:8080/",
          "height": 93
        },
        "outputId": "a1583cf4-1f3e-4869-97ff-3f4a1876f13f"
      },
      "source": [
        "print('Best score: {}'.format(grid_search.best_score_))\n",
        "print('Best parameters: {}'.format(grid_search.best_params_))\n",
        "\n",
        "best_dtc = grid_search.best_estimator_\n",
        "best_dtc"
      ],
      "execution_count": 9,
      "outputs": [
        {
          "output_type": "stream",
          "text": [
            "Best score: 0.7546574949842362\n",
            "Best parameters: {'_optimizer': 'SGD', 'activation_fun': 'tanh', 'batch_size': 1, 'epochs': 15, 'hidden_layers': 1, 'hidden_neurons': 8, 'input_neurons': 24}\n"
          ],
          "name": "stdout"
        },
        {
          "output_type": "execute_result",
          "data": {
            "text/plain": [
              "<tensorflow.python.keras.wrappers.scikit_learn.KerasClassifier at 0x7f5b52938d68>"
            ]
          },
          "metadata": {
            "tags": []
          },
          "execution_count": 9
        }
      ]
    },
    {
      "cell_type": "markdown",
      "metadata": {
        "id": "zKBLRUbmthR6",
        "colab_type": "text"
      },
      "source": [
        "## Training finale"
      ]
    },
    {
      "cell_type": "code",
      "metadata": {
        "id": "yiTDO3T1tj3P",
        "colab_type": "code",
        "colab": {
          "base_uri": "https://localhost:8080/",
          "height": 595
        },
        "outputId": "d4669c55-6013-4978-fba8-daa143fd1090"
      },
      "source": [
        "my_model=best_dtc\n",
        "training_phase = my_model.fit(train_X_imp, train_y)"
      ],
      "execution_count": 10,
      "outputs": [
        {
          "output_type": "stream",
          "text": [
            "Epoch 1/15\n",
            "3489/3489 [==============================] - 3s 817us/step - loss: 0.5263 - accuracy: 0.7300 - auc_4: 0.7822\n",
            "Epoch 2/15\n",
            "3489/3489 [==============================] - 3s 861us/step - loss: 0.5032 - accuracy: 0.7492 - auc_4: 0.8064\n",
            "Epoch 3/15\n",
            "3489/3489 [==============================] - 3s 814us/step - loss: 0.4936 - accuracy: 0.7547 - auc_4: 0.8148\n",
            "Epoch 4/15\n",
            "3489/3489 [==============================] - 3s 848us/step - loss: 0.4882 - accuracy: 0.7595 - auc_4: 0.8198\n",
            "Epoch 5/15\n",
            "3489/3489 [==============================] - 3s 822us/step - loss: 0.4809 - accuracy: 0.7644 - auc_4: 0.8268\n",
            "Epoch 6/15\n",
            "3489/3489 [==============================] - 3s 819us/step - loss: 0.4753 - accuracy: 0.7664 - auc_4: 0.8314\n",
            "Epoch 7/15\n",
            "3489/3489 [==============================] - 3s 826us/step - loss: 0.4716 - accuracy: 0.7756 - auc_4: 0.8343\n",
            "Epoch 8/15\n",
            "3489/3489 [==============================] - 3s 841us/step - loss: 0.4666 - accuracy: 0.7756 - auc_4: 0.8386\n",
            "Epoch 9/15\n",
            "3489/3489 [==============================] - 3s 833us/step - loss: 0.4602 - accuracy: 0.7842 - auc_4: 0.8441\n",
            "Epoch 10/15\n",
            "3489/3489 [==============================] - 3s 858us/step - loss: 0.4586 - accuracy: 0.7882 - auc_4: 0.8453\n",
            "Epoch 11/15\n",
            "3489/3489 [==============================] - 3s 861us/step - loss: 0.4569 - accuracy: 0.7848 - auc_4: 0.8461\n",
            "Epoch 12/15\n",
            "3489/3489 [==============================] - 3s 823us/step - loss: 0.4515 - accuracy: 0.7816 - auc_4: 0.8503\n",
            "Epoch 13/15\n",
            "3489/3489 [==============================] - 3s 868us/step - loss: 0.4472 - accuracy: 0.7893 - auc_4: 0.8537\n",
            "Epoch 14/15\n",
            "3489/3489 [==============================] - 3s 833us/step - loss: 0.4441 - accuracy: 0.7945 - auc_4: 0.8562\n",
            "Epoch 15/15\n",
            "3489/3489 [==============================] - 3s 875us/step - loss: 0.4419 - accuracy: 0.7956 - auc_4: 0.8575\n"
          ],
          "name": "stdout"
        }
      ]
    },
    {
      "cell_type": "markdown",
      "metadata": {
        "id": "ls7B5AtsunZ1",
        "colab_type": "text"
      },
      "source": [
        "### Scoring"
      ]
    },
    {
      "cell_type": "code",
      "metadata": {
        "id": "IwP4auAkut9m",
        "colab_type": "code",
        "colab": {
          "base_uri": "https://localhost:8080/",
          "height": 74
        },
        "outputId": "75d25e3e-7772-4346-9d80-37f4b10161f8"
      },
      "source": [
        "my_model.score(train_X_imp, train_y)"
      ],
      "execution_count": 11,
      "outputs": [
        {
          "output_type": "stream",
          "text": [
            "3489/3489 [==============================] - 3s 841us/step - loss: 0.4255 - accuracy: 0.7994 - auc_4: 0.8715\n"
          ],
          "name": "stdout"
        },
        {
          "output_type": "execute_result",
          "data": {
            "text/plain": [
              "0.7993694543838501"
            ]
          },
          "metadata": {
            "tags": []
          },
          "execution_count": 11
        }
      ]
    },
    {
      "cell_type": "code",
      "metadata": {
        "id": "ondZ0pduuiHW",
        "colab_type": "code",
        "colab": {
          "base_uri": "https://localhost:8080/",
          "height": 550
        },
        "outputId": "f02fbb42-7370-4593-cb96-eba26d5afd84"
      },
      "source": [
        "import matplotlib.pyplot as pyplot\n",
        "    \n",
        "# plot training history\n",
        "print(\"loss\")\n",
        "pyplot.plot(training_phase.history['loss'], label='train')\n",
        "#pyplot.plot(training_phase.history['val_loss'], label='validation')\n",
        "pyplot.legend()\n",
        "pyplot.show()\n",
        "\n",
        "print(\"Accuracy\")\n",
        "pyplot.plot(training_phase.history['accuracy'], label='train')\n",
        "#pyplot.plot(training_phase.history['val_accuracy'], label='validation')\n",
        "pyplot.legend()\n",
        "pyplot.show()"
      ],
      "execution_count": null,
      "outputs": [
        {
          "output_type": "stream",
          "text": [
            "loss\n"
          ],
          "name": "stdout"
        },
        {
          "output_type": "display_data",
          "data": {
            "image/png": "[encoded data removed]",
            "text/plain": [
              "<Figure size 432x288 with 1 Axes>"
            ]
          },
          "metadata": {
            "tags": [],
            "needs_background": "light"
          }
        },
        {
          "output_type": "stream",
          "text": [
            "Accuracy\n"
          ],
          "name": "stdout"
        },
        {
          "output_type": "display_data",
          "data": {
            "image/png": "[encoded data removed]",
            "text/plain": [
              "<Figure size 432x288 with 1 Axes>"
            ]
          },
          "metadata": {
            "tags": [],
            "needs_background": "light"
          }
        }
      ]
    },
    {
      "cell_type": "markdown",
      "metadata": {
        "id": "TQ4FQuNvu1Qb",
        "colab_type": "text"
      },
      "source": [
        "### Confusion matrix"
      ]
    },
    {
      "cell_type": "code",
      "metadata": {
        "id": "CaF2WMU5tkqv",
        "colab_type": "code",
        "colab": {
          "base_uri": "https://localhost:8080/",
          "height": 277
        },
        "outputId": "2cd384cb-cf55-4964-9aa7-8f86ab73ca6c"
      },
      "source": [
        "y_pred = my_model.predict(train_X_imp)\n",
        "print(\"Confusion Matrix:\")\n",
        "print(confusion_matrix(train_y, y_pred))\n",
        "\n",
        "print(\"Classification Report:\")\n",
        "print(classification_report(train_y, y_pred))"
      ],
      "execution_count": null,
      "outputs": [
        {
          "output_type": "stream",
          "text": [
            "3489/3489 [==============================] - 1s 342us/step\n",
            "Confusion Matrix:\n",
            "[[ 826  379]\n",
            " [ 222 2062]]\n",
            "Classification Report:\n",
            "              precision    recall  f1-score   support\n",
            "\n",
            "           0       0.79      0.69      0.73      1205\n",
            "           1       0.84      0.90      0.87      2284\n",
            "\n",
            "    accuracy                           0.83      3489\n",
            "   macro avg       0.82      0.79      0.80      3489\n",
            "weighted avg       0.83      0.83      0.82      3489\n",
            "\n"
          ],
          "name": "stdout"
        }
      ]
    },
    {
      "cell_type": "markdown",
      "metadata": {
        "id": "-sDSceDJu_4C",
        "colab_type": "text"
      },
      "source": [
        "## Test e Submission"
      ]
    },
    {
      "cell_type": "code",
      "metadata": {
        "id": "vpUGTn5nvFKb",
        "colab_type": "code",
        "colab": {
          "base_uri": "https://localhost:8080/",
          "height": 74
        },
        "outputId": "8b935daf-60dc-49c3-d88c-d77557ff4b3c"
      },
      "source": [
        "#TEST SET\n",
        "t= pd.read_csv('https://raw.githubusercontent.com/serivan/mldmlab/master/Datasets/Kaggle2020/test.csv')\n",
        "t.to_csv('test.csv', index=False)\n",
        "\n",
        "#sistemo csv\n",
        "with open('test.csv') as f_in, open('new_test.csv', 'w') as f_out:\n",
        "    #crea il nuovo csv\n",
        "    filewriter = csv.writer(f_out, delimiter=',')\n",
        "    # Write header unchanged\n",
        "    header = f_in.readline()\n",
        "    f_out.write(header)\n",
        "\n",
        "    reader = csv.reader(f_in)\n",
        "    lines = list(reader)\n",
        "\n",
        "    for line in lines:\n",
        "        if line[2] != '' and float(line[2])>100:\n",
        "            line[2]=float(line[2])/1000\n",
        "        if line[8] != '' and float(line[8])>100:\n",
        "            line[8]=float(line[8])/1000\n",
        "\n",
        "    writer = csv.writer(f_out)\n",
        "    writer.writerows(lines)\n",
        "\n",
        "f_in.close()\n",
        "f_out.close()\n",
        "\n",
        "test = pd.read_csv('new_test.csv')\n",
        "# Treat the test data in the same way as training data. In this case, pull same columns.\n",
        "test_X = test[predictor_cols]\n",
        "\n",
        "test_X_std = scaler.transform(test_X)\n",
        "\n",
        "# Impute each test item, then predict\n",
        "test_X_imp = imp.transform(test_X_std)\n",
        "\n",
        "# Use the model to make predictions\n",
        "predicted_q = my_model.predict(test_X_imp)\n",
        "# We will look at the predicted Qualities to ensure we have something sensible.\n",
        "predicted_q = [round(x[0]) for x in predicted_q]\n",
        "\n",
        "for i in range (0,len(predicted_q)):\n",
        "    predicted_q[i]=int(predicted_q[i])\n",
        "\n",
        "print(predicted_q)\n"
      ],
      "execution_count": null,
      "outputs": [
        {
          "output_type": "stream",
          "text": [
            "1164/1164 [==============================] - 0s 339us/step\n",
            "[1, 1, 1, 1, 1, 1, 1, 0, 1, 1, 0, 1, 1, 1, 1, 1, 1, 1, 0, 1, 1, 0, 1, 1, 1, 1, 1, 1, 1, 1, 1, 0, 1, 1, 0, 0, 1, 1, 1, 0, 1, 0, 1, 1, 1, 1, 0, 1, 1, 1, 1, 0, 1, 1, 1, 1, 1, 1, 1, 0, 1, 0, 1, 1, 1, 0, 1, 1, 0, 1, 1, 1, 1, 0, 0, 1, 0, 1, 1, 1, 0, 1, 1, 0, 1, 0, 1, 1, 1, 1, 1, 1, 1, 1, 1, 0, 0, 1, 1, 1, 1, 1, 1, 1, 1, 1, 1, 1, 1, 0, 1, 0, 0, 1, 0, 0, 1, 1, 1, 0, 1, 0, 1, 0, 0, 1, 1, 0, 1, 1, 0, 1, 1, 1, 1, 1, 0, 0, 1, 0, 0, 1, 1, 1, 1, 1, 1, 0, 1, 1, 1, 1, 0, 1, 1, 1, 1, 1, 1, 0, 1, 1, 1, 0, 0, 1, 1, 1, 1, 1, 1, 1, 1, 1, 1, 1, 1, 1, 0, 0, 0, 1, 1, 1, 1, 0, 0, 1, 0, 1, 0, 1, 1, 0, 1, 1, 1, 0, 1, 1, 0, 1, 1, 0, 1, 1, 1, 1, 1, 1, 1, 1, 1, 1, 1, 1, 1, 1, 1, 1, 0, 1, 1, 1, 0, 0, 1, 1, 1, 1, 1, 1, 1, 1, 1, 1, 0, 1, 1, 1, 1, 0, 0, 1, 0, 1, 1, 0, 1, 1, 1, 1, 1, 1, 0, 0, 1, 1, 1, 1, 0, 1, 0, 0, 0, 1, 0, 0, 1, 1, 0, 0, 1, 1, 1, 1, 1, 1, 1, 0, 1, 1, 0, 1, 0, 1, 0, 1, 0, 1, 1, 1, 1, 0, 0, 1, 1, 0, 1, 1, 1, 0, 1, 1, 1, 1, 0, 0, 1, 1, 1, 1, 1, 1, 1, 0, 1, 1, 1, 0, 0, 1, 1, 1, 0, 1, 1, 0, 1, 1, 0, 1, 1, 1, 1, 1, 1, 1, 1, 1, 1, 1, 1, 1, 1, 0, 1, 1, 1, 0, 1, 1, 1, 0, 1, 1, 1, 0, 1, 0, 1, 1, 0, 1, 1, 1, 1, 1, 1, 0, 1, 1, 1, 1, 1, 0, 0, 1, 1, 1, 1, 1, 1, 1, 1, 1, 0, 1, 1, 1, 0, 1, 1, 1, 1, 1, 1, 1, 1, 0, 1, 0, 0, 1, 1, 1, 0, 1, 0, 1, 1, 1, 1, 0, 1, 0, 0, 1, 1, 1, 1, 1, 0, 0, 1, 1, 1, 1, 0, 0, 1, 1, 1, 0, 0, 0, 1, 1, 1, 1, 1, 1, 1, 0, 0, 0, 1, 0, 1, 1, 0, 1, 0, 1, 1, 1, 0, 1, 1, 1, 1, 1, 1, 1, 0, 1, 1, 0, 0, 1, 1, 0, 1, 1, 1, 1, 1, 0, 1, 1, 1, 1, 1, 1, 1, 1, 1, 1, 1, 1, 0, 1, 1, 0, 1, 1, 1, 1, 1, 1, 1, 1, 0, 0, 1, 1, 0, 0, 1, 0, 1, 1, 1, 1, 1, 1, 1, 1, 0, 1, 0, 1, 1, 0, 0, 1, 1, 1, 0, 1, 1, 1, 1, 1, 1, 0, 1, 1, 1, 0, 0, 1, 1, 0, 0, 1, 1, 1, 1, 1, 1, 1, 0, 1, 1, 1, 1, 1, 1, 1, 0, 1, 0, 1, 1, 1, 1, 0, 1, 0, 1, 1, 0, 1, 1, 1, 1, 1, 0, 1, 0, 1, 1, 0, 1, 1, 1, 0, 1, 0, 1, 1, 0, 0, 0, 0, 1, 0, 1, 1, 1, 0, 1, 0, 1, 0, 1, 0, 1, 1, 1, 1, 0, 0, 0, 1, 0, 0, 1, 1, 0, 1, 1, 1, 0, 0, 0, 1, 0, 1, 1, 1, 1, 1, 0, 1, 1, 1, 1, 1, 1, 1, 1, 0, 0, 1, 1, 0, 1, 1, 1, 0, 1, 1, 1, 1, 1, 1, 1, 0, 1, 1, 0, 0, 0, 1, 1, 1, 1, 1, 1, 1, 0, 1, 1, 1, 0, 1, 0, 1, 1, 1, 1, 1, 1, 0, 0, 1, 1, 1, 0, 0, 0, 1, 1, 1, 1, 1, 1, 1, 0, 0, 1, 1, 1, 1, 0, 0, 1, 1, 1, 1, 1, 0, 1, 1, 1, 0, 1, 1, 0, 1, 0, 1, 1, 1, 1, 1, 0, 1, 1, 1, 0, 1, 1, 1, 1, 1, 0, 1, 0, 1, 1, 1, 0, 1, 1, 0, 0, 1, 0, 1, 0, 1, 1, 1, 1, 1, 0, 1, 0, 1, 1, 1, 1, 0, 1, 0, 1, 1, 0, 0, 1, 1, 0, 1, 1, 1, 1, 0, 1, 0, 0, 0, 1, 1, 1, 1, 1, 1, 1, 1, 1, 1, 1, 1, 0, 1, 1, 1, 1, 1, 0, 1, 1, 0, 1, 1, 1, 0, 1, 1, 0, 1, 0, 0, 0, 1, 1, 1, 1, 0, 1, 1, 0, 1, 1, 0, 1, 1, 1, 1, 0, 1, 1, 1, 1, 1, 1, 1, 1, 1, 0, 1, 1, 0, 0, 1, 1, 1, 1, 1, 0, 0, 1, 1, 0, 1, 0, 1, 1, 1, 1, 1, 1, 1, 1, 0, 1, 1, 0, 1, 1, 1, 1, 1, 1, 1, 1, 1, 1, 1, 1, 1, 0, 1, 1, 1, 1, 1, 0, 1, 1, 1, 1, 0, 1, 1, 1, 1, 1, 1, 0, 1, 1, 1, 0, 1, 1, 1, 1, 0, 1, 1, 1, 1, 1, 1, 0, 1, 1, 0, 1, 0, 1, 1, 1, 0, 1, 1, 1, 0, 1, 0, 1, 1, 1, 1, 1, 1, 1, 1, 0, 1, 1, 0, 1, 1, 1, 1, 1, 1, 1, 1, 1, 1, 1, 1, 1, 1, 0, 1, 1, 1, 1, 0, 1, 1, 1, 0, 1, 1, 0, 1, 1, 0, 0, 0, 1, 1, 0, 0, 1, 1, 1, 1, 0, 1, 1, 0, 1, 0, 1, 1, 1, 1, 1, 0, 0, 1, 1, 0, 1, 1, 1, 1, 1, 0, 0, 1, 0, 1, 1, 1, 1, 0, 1, 1, 1, 1, 1, 0, 0, 1, 1, 1, 1, 0, 1, 1, 0, 1, 1, 0, 1, 1, 1, 0, 1, 1, 0, 0, 1, 0, 1, 1, 1, 1, 0, 0, 1, 1, 1, 1, 1, 1, 1, 1, 1, 1, 0, 1, 1, 0, 1, 0, 1, 0, 1, 1, 0, 1, 1, 1, 1, 1, 1, 1, 1, 1, 1, 1, 1, 1, 1, 1, 0, 1, 1, 1, 1, 1, 1, 0, 1, 1, 1, 1, 1, 1, 0, 1, 0, 0, 1, 1, 0, 1, 1, 0, 1, 0, 1, 0, 1, 1, 1, 1, 0, 1, 0, 0, 1, 1, 1, 1, 1, 1, 1, 1, 0, 1, 1, 0, 1, 1, 1, 1, 0, 1, 1, 1, 1, 1, 1, 1, 1, 1, 1, 1, 1, 1, 1, 1, 0, 1, 1, 1, 1, 1, 0, 1, 1, 0]\n"
          ],
          "name": "stdout"
        }
      ]
    },
    {
      "cell_type": "markdown",
      "metadata": {
        "id": "SQ2UTY0TvNaE",
        "colab_type": "text"
      },
      "source": [
        "### Generazione file di submission"
      ]
    },
    {
      "cell_type": "code",
      "metadata": {
        "id": "Mq4aApONvMvX",
        "colab_type": "code",
        "colab": {}
      },
      "source": [
        "\n",
        "#prepare kaggle submission\n",
        "my_submission = pd.DataFrame({'Id': test.Id, 'Quality': predicted_q})\n",
        "# you could use any filename. We choose submission here\n",
        "my_submission.to_csv('submission.csv', index=False)"
      ],
      "execution_count": null,
      "outputs": []
    }
  ]
}