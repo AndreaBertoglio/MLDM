{
  "nbformat": 4,
  "nbformat_minor": 0,
  "metadata": {
    "colab": {
      "name": "Support_Vector_Machines.ipynb",
      "provenance": [],
      "include_colab_link": true
    },
    "kernelspec": {
      "name": "python3",
      "display_name": "Python 3"
    }
  },
  "cells": [
    {
      "cell_type": "markdown",
      "metadata": {
        "id": "view-in-github",
        "colab_type": "text"
      },
      "source": [
        "<a href=\"https://colab.research.google.com/github/AndreaBertoglio/MLDM/blob/master/Support_Vector_Machines.ipynb\" target=\"_parent\"><img src=\"https://colab.research.google.com/assets/colab-badge.svg\" alt=\"Open In Colab\"/></a>"
      ]
    },
    {
      "cell_type": "code",
      "metadata": {
        "id": "ZI9-kt4ALqSO",
        "colab_type": "code",
        "colab": {
          "base_uri": "https://localhost:8080/",
          "height": 34
        },
        "outputId": "9d8914d4-ee2c-4ef8-cee0-3120d5b0d101"
      },
      "source": [
        "import pip\n",
        "import sys\n",
        "#if not 'sklearn' in sys.modules.keys():\n",
        "#    pip.main(['install', 'sklearn'])\n",
        "#if not 'kaggle' in sys.modules.keys():\n",
        "#    pip.main(['install', 'kaggle'])\n",
        "import random\n",
        "\n",
        "print(\"Random number with seed 2020\")\n",
        "# first call\n",
        "random.seed(2020)"
      ],
      "execution_count": null,
      "outputs": [
        {
          "output_type": "stream",
          "text": [
            "Random number with seed 2020\n"
          ],
          "name": "stdout"
        }
      ]
    },
    {
      "cell_type": "code",
      "metadata": {
        "_cell_guid": "8524922d-be55-46fd-863f-004261fcfff0",
        "_uuid": "58cfd95aa5563209575b12977280983ffeea6492",
        "scrolled": false,
        "id": "zyxXPaP5LqSk",
        "colab_type": "code",
        "colab": {}
      },
      "source": [
        "import numpy as np\n",
        "import pandas as pd\n",
        "import graphviz\n",
        "\n",
        "from sklearn.svm import SVC\n",
        "from sklearn.impute import SimpleImputer\n",
        "\n",
        "from sklearn.model_selection import train_test_split\n",
        "from sklearn.metrics import classification_report, confusion_matrix\n",
        "\n",
        "import matplotlib.pyplot as plt\n",
        "\n",
        "# Read the data from GitHub\n",
        "train = pd.read_csv('https://raw.githubusercontent.com/serivan/mldmlab/master/Datasets/Kaggle2020/train.csv')\n"
      ],
      "execution_count": null,
      "outputs": []
    },
    {
      "cell_type": "code",
      "metadata": {
        "id": "RDx-QVwILqSz",
        "colab_type": "code",
        "colab": {}
      },
      "source": [
        "#Le classi sono 1=Good 0=Disappointing\n",
        "train[\"Quality\"] = np.where(train[\"Quality\"].str.contains(\"Good\"), 1, 0)"
      ],
      "execution_count": null,
      "outputs": []
    },
    {
      "cell_type": "code",
      "metadata": {
        "id": "KJIUVDySLqTY",
        "colab_type": "code",
        "colab": {}
      },
      "source": [
        "# pull data into target (y) and predictors (X)\n",
        "#La y è la classe, cioè la Quality\n",
        "train_y = train.Quality\n",
        "#seleziono colonne di interesse, non metto l'ID perchè non mi interessa\n",
        "predictor_cols = ['fixed.acidity','volatile.acidity','citric.acid','residual.sugar','chlorides','free.sulfur.dioxide','total.sulfur.dioxide','density','pH','sulphates','alcohol']\n",
        "\n",
        "# La x sono gli attributi\n",
        "train_X = train[predictor_cols]\n",
        "\n",
        "# Sostituisce i missing values con la media e lo applica alle x\n",
        "imp = SimpleImputer(missing_values=np.nan, strategy='mean')\n",
        "imp = imp.fit(train_X)\n",
        "\n",
        "# Impute our data, then train\n",
        "train_X_imp = imp.transform(train_X)\n",
        "\n",
        "from sklearn.preprocessing import StandardScaler\n",
        "scaler = StandardScaler()\n",
        "train_X_imp = scaler.fit_transform(train_X_imp)"
      ],
      "execution_count": null,
      "outputs": []
    },
    {
      "cell_type": "code",
      "metadata": {
        "id": "lgAodc3qLqU2",
        "colab_type": "code",
        "colab": {}
      },
      "source": [
        "#Uso l'80% dei dati per train e il restante 20% per test\n",
        "xTrain, xTest, yTrain, yTest = train_test_split(train_X_imp, train_y, train_size = 0.8, random_state = 0)"
      ],
      "execution_count": null,
      "outputs": []
    },
    {
      "cell_type": "code",
      "metadata": {
        "id": "D0Bw-JZ0LqTo",
        "colab_type": "code",
        "colab": {}
      },
      "source": [
        "def generateSubmission(myModel, submissionFile, description):\n",
        "    # Read the test data\n",
        "    test = pd.read_csv('https://raw.githubusercontent.com/serivan/mldmlab/master/Datasets/Kaggle2020/test.csv')\n",
        "\n",
        "\n",
        "    # Treat the test data in the same way as training data. In this case, pull same columns.\n",
        "    test_X = test[predictor_cols]\n",
        "\n",
        "    # Impute each test item, then predict\n",
        "    test_X_imp = imp.transform(test_X)\n",
        "    \n",
        "    # Use the model to make predictions\n",
        "    predicted_q = myModel.predict(test_X_imp)\n",
        "    # We will look at the predicted Qualities to ensure we have something sensible.\n",
        "    print(predicted_q)\n",
        "    \n",
        "    #submission file\n",
        "    my_submission = pd.DataFrame({'Id': test.Id, 'Quality': predicted_q})\n",
        "    # you could use any filename. We choose submission here\n",
        "    my_submission.to_csv(submissionFile, index=False)\n",
        "    \n",
        "    #Submit authomatically; kaggle API authentication needed\n",
        "    #!kaggle competitions submit -c mldm-classification-competition-2020 -f {submissionFile} -m '{description}'"
      ],
      "execution_count": null,
      "outputs": []
    },
    {
      "cell_type": "code",
      "metadata": {
        "id": "zOjDBnxsLqXD",
        "colab_type": "code",
        "colab": {}
      },
      "source": [
        "from sklearn.model_selection import GridSearchCV\n",
        "from sklearn.model_selection import StratifiedKFold"
      ],
      "execution_count": null,
      "outputs": []
    },
    {
      "cell_type": "code",
      "metadata": {
        "id": "8Oi1-YS1LqXM",
        "colab_type": "code",
        "colab": {
          "base_uri": "https://localhost:8080/",
          "height": 302
        },
        "outputId": "5edcf02c-d293-40f6-b855-86fe226191d6"
      },
      "source": [
        "#DA CAMBIARE! METODO E PARAMETRI\n",
        "svc = SVC()\n",
        "#Range di parametri che vengono esplorati per trovare la combinazione migliore\n",
        "parameter_grid = {'kernel': ['poly'],\n",
        "                  'degree': [3,4,5],\n",
        "                  'C': [2,3,5],\n",
        "                  #'max_iter' : [200,500]\n",
        "                  }\n",
        "\n",
        "\n",
        "cross_validation = StratifiedKFold(n_splits=10)\n",
        "cross_validation.get_n_splits(train_X_imp, train_y)\n",
        "#Create the scoring dictionary\n",
        "SCORING = {'accuracy': 'accuracy',\n",
        "'balanced_accuracy': 'balanced_accuracy',\n",
        "'precision': 'precision_macro',\n",
        "'recall': 'recall_macro',\n",
        "'f1': 'f1_macro'}\n",
        "\n",
        "#grid_search = GridSearchCV(dtc, param_grid=parameter_grid, cv=cross_validation)\n",
        "grid_search = GridSearchCV(svc, param_grid=parameter_grid, cv=cross_validation, scoring=SCORING,return_train_score=True, refit='f1')\n",
        "\n",
        "grid_search.fit(train_X_imp, train_y)\n"
      ],
      "execution_count": null,
      "outputs": [
        {
          "output_type": "execute_result",
          "data": {
            "text/plain": [
              "GridSearchCV(cv=StratifiedKFold(n_splits=10, random_state=None, shuffle=False),\n",
              "             error_score=nan,\n",
              "             estimator=SVC(C=1.0, break_ties=False, cache_size=200,\n",
              "                           class_weight=None, coef0=0.0,\n",
              "                           decision_function_shape='ovr', degree=3,\n",
              "                           gamma='scale', kernel='rbf', max_iter=-1,\n",
              "                           probability=False, random_state=None, shrinking=True,\n",
              "                           tol=0.001, verbose=False),\n",
              "             iid='deprecated', n_jobs=None,\n",
              "             param_grid={'C': [2, 5, 10], 'degree': [3, 4, 5],\n",
              "                         'kernel': ['poly']},\n",
              "             pre_dispatch='2*n_jobs', refit='f1', return_train_score=True,\n",
              "             scoring={'accuracy': 'accuracy',\n",
              "                      'balanced_accuracy': 'balanced_accuracy',\n",
              "                      'f1': 'f1_macro', 'precision': 'precision_macro',\n",
              "                      'recall': 'recall_macro'},\n",
              "             verbose=0)"
            ]
          },
          "metadata": {
            "tags": []
          },
          "execution_count": 31
        }
      ]
    },
    {
      "cell_type": "code",
      "metadata": {
        "id": "D1fi-vRcLqXW",
        "colab_type": "code",
        "colab": {}
      },
      "source": [
        "grid_search.cv_results_"
      ],
      "execution_count": null,
      "outputs": []
    },
    {
      "cell_type": "code",
      "metadata": {
        "id": "dBPF3eRkLqXj",
        "colab_type": "code",
        "colab": {
          "base_uri": "https://localhost:8080/",
          "height": 118
        },
        "outputId": "8012778e-2461-48f4-a8c9-ff43d4b7e26e"
      },
      "source": [
        "print('Best score: {}'.format(grid_search.best_score_))\n",
        "print('Best parameters: {}'.format(grid_search.best_params_))\n",
        "\n",
        "best_dtc = grid_search.best_estimator_\n",
        "best_dtc"
      ],
      "execution_count": null,
      "outputs": [
        {
          "output_type": "stream",
          "text": [
            "Best score: 0.663674637203174\n",
            "Best parameters: {'C': 10, 'degree': 4, 'kernel': 'poly'}\n"
          ],
          "name": "stdout"
        },
        {
          "output_type": "execute_result",
          "data": {
            "text/plain": [
              "SVC(C=10, break_ties=False, cache_size=200, class_weight=None, coef0=0.0,\n",
              "    decision_function_shape='ovr', degree=4, gamma='scale', kernel='poly',\n",
              "    max_iter=-1, probability=False, random_state=None, shrinking=True,\n",
              "    tol=0.001, verbose=False)"
            ]
          },
          "metadata": {
            "tags": []
          },
          "execution_count": 32
        }
      ]
    },
    {
      "cell_type": "code",
      "metadata": {
        "id": "jNmMjs8SLqXu",
        "colab_type": "code",
        "colab": {
          "base_uri": "https://localhost:8080/",
          "height": 34
        },
        "outputId": "b7905612-3d40-4251-bb00-541f208aa216"
      },
      "source": [
        "my_model=best_dtc\n",
        "my_model.fit(train_X_imp, train_y)\n",
        "my_model.score(train_X_imp, train_y)"
      ],
      "execution_count": null,
      "outputs": [
        {
          "output_type": "execute_result",
          "data": {
            "text/plain": [
              "0.8191458870736601"
            ]
          },
          "metadata": {
            "tags": []
          },
          "execution_count": 33
        }
      ]
    },
    {
      "cell_type": "code",
      "metadata": {
        "id": "d_IeZREYLqX6",
        "colab_type": "code",
        "colab": {
          "base_uri": "https://localhost:8080/",
          "height": 235
        },
        "outputId": "0ce26b79-eb23-4a4e-923d-e4cffa626bd6"
      },
      "source": [
        "y_pred = my_model.predict(train_X_imp)\n",
        "print(\"Confusion Matrix:\")\n",
        "print(confusion_matrix(train_y, y_pred))\n",
        "\n",
        "print(\"Classification Report:\")\n",
        "print(classification_report(train_y, y_pred))"
      ],
      "execution_count": null,
      "outputs": [
        {
          "output_type": "stream",
          "text": [
            "Confusion Matrix:\n",
            "[[ 673  532]\n",
            " [  99 2185]]\n",
            "Classification Report:\n",
            "              precision    recall  f1-score   support\n",
            "\n",
            "           0       0.87      0.56      0.68      1205\n",
            "           1       0.80      0.96      0.87      2284\n",
            "\n",
            "    accuracy                           0.82      3489\n",
            "   macro avg       0.84      0.76      0.78      3489\n",
            "weighted avg       0.83      0.82      0.81      3489\n",
            "\n"
          ],
          "name": "stdout"
        }
      ]
    },
    {
      "cell_type": "code",
      "metadata": {
        "colab_type": "code",
        "id": "S5SUv2uHe47m",
        "colab": {
          "base_uri": "https://localhost:8080/",
          "height": 34
        },
        "outputId": "e6905c30-3f60-4959-c798-afe6e686fb46"
      },
      "source": [
        "# generate a submission file\n",
        "generateSubmission(my_model,'SVM_poly2.0.csv', \"User defined SVM evaluated with Grid Search and poly kernel\")"
      ],
      "execution_count": null,
      "outputs": [
        {
          "output_type": "stream",
          "text": [
            "[1 0 0 ... 1 0 0]\n"
          ],
          "name": "stdout"
        }
      ]
    }
  ]
}
