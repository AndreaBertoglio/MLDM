{
  "nbformat": 4,
  "nbformat_minor": 0,
  "metadata": {
    "colab": {
      "name": "Copy of Default_notebook.ipynb",
      "provenance": [],
      "include_colab_link": true
    },
    "kernelspec": {
      "name": "python3",
      "display_name": "Python 3"
    }
  },
  "cells": [
    {
      "cell_type": "markdown",
      "metadata": {
        "id": "view-in-github",
        "colab_type": "text"
      },
      "source": [
        "<a href=\"https://colab.research.google.com/github/AndreaBertoglio/MLDM/blob/master/Decision_Tree.ipynb\" target=\"_parent\"><img src=\"https://colab.research.google.com/assets/colab-badge.svg\" alt=\"Open In Colab\"/></a>"
      ]
    },
    {
      "cell_type": "code",
      "metadata": {
        "id": "ZI9-kt4ALqSO",
        "colab_type": "code",
        "colab": {
          "base_uri": "https://localhost:8080/",
          "height": 34
        },
        "outputId": "35689956-b3e6-4e52-ff6e-a56f37b33ae9"
      },
      "source": [
        "import pip\n",
        "import sys\n",
        "#if not 'sklearn' in sys.modules.keys():\n",
        "#    pip.main(['install', 'sklearn'])\n",
        "#if not 'kaggle' in sys.modules.keys():\n",
        "#    pip.main(['install', 'kaggle'])\n",
        "import random\n",
        "\n",
        "print(\"Random number with seed 2020\")\n",
        "# first call\n",
        "random.seed(2020)"
      ],
      "execution_count": null,
      "outputs": [
        {
          "output_type": "stream",
          "text": [
            "Random number with seed 2020\n"
          ],
          "name": "stdout"
        }
      ]
    },
    {
      "cell_type": "code",
      "metadata": {
        "_cell_guid": "8524922d-be55-46fd-863f-004261fcfff0",
        "_uuid": "58cfd95aa5563209575b12977280983ffeea6492",
        "scrolled": false,
        "id": "zyxXPaP5LqSk",
        "colab_type": "code",
        "colab": {}
      },
      "source": [
        "import numpy as np\n",
        "import pandas as pd\n",
        "import graphviz\n",
        "\n",
        "from sklearn.experimental import enable_iterative_imputer\n",
        "from sklearn.impute import IterativeImputer\n",
        "\n",
        "from sklearn.tree import DecisionTreeClassifier, export_graphviz #Da cambiare\n",
        "from sklearn.impute import SimpleImputer\n",
        "\n",
        "from sklearn.model_selection import train_test_split\n",
        "from sklearn.metrics import classification_report, confusion_matrix\n",
        "\n",
        "import matplotlib.pyplot as plt\n",
        "\n",
        "# Read the data from GitHub\n",
        "train = pd.read_csv('https://raw.githubusercontent.com/serivan/mldmlab/master/Datasets/Kaggle2020/train.csv')\n"
      ],
      "execution_count": null,
      "outputs": []
    },
    {
      "cell_type": "code",
      "metadata": {
        "id": "RDx-QVwILqSz",
        "colab_type": "code",
        "colab": {}
      },
      "source": [
        "#Le classi sono 1=Good 0=Disappointing\n",
        "train[\"Quality\"] = np.where(train[\"Quality\"].str.contains(\"Good\"), 1, 0)"
      ],
      "execution_count": null,
      "outputs": []
    },
    {
      "cell_type": "code",
      "metadata": {
        "id": "KJIUVDySLqTY",
        "colab_type": "code",
        "colab": {}
      },
      "source": [
        "# pull data into target (y) and predictors (X)\n",
        "#La y è la classe, cioè la Quality\n",
        "train_y = train.Quality\n",
        "#seleziono colonne di interesse, non metto l'ID perchè non mi interessa\n",
        "predictor_cols = ['fixed.acidity','volatile.acidity','citric.acid','residual.sugar','chlorides','free.sulfur.dioxide','total.sulfur.dioxide','density','pH','sulphates','alcohol']\n",
        "\n",
        "# La x sono gli attributi\n",
        "train_X = train[predictor_cols]\n",
        "\n",
        "# Sostituisce i missing values con la media e lo applica alle x\n",
        "\n",
        "#imp = SimpleImputer(missing_values=np.nan, strategy='mean')\n",
        "imp = IterativeImputer(missing_values=np.nan, max_iter=30)\n",
        "imp = imp.fit(train_X)\n",
        "\n",
        "\n",
        "# Impute our data, then train\n",
        "train_X_imp = imp.transform(train_X)\n"
      ],
      "execution_count": null,
      "outputs": []
    },
    {
      "cell_type": "code",
      "metadata": {
        "id": "lgAodc3qLqU2",
        "colab_type": "code",
        "colab": {}
      },
      "source": [
        "#Uso l'80% dei dati per train e il restante 20% per test\n",
        "xTrain, xTest, yTrain, yTest = train_test_split(train_X_imp, train_y, train_size = 0.8, random_state = 0)"
      ],
      "execution_count": null,
      "outputs": []
    },
    {
      "cell_type": "code",
      "metadata": {
        "id": "D0Bw-JZ0LqTo",
        "colab_type": "code",
        "colab": {}
      },
      "source": [
        "def generateSubmission(myModel, submissionFile, description):\n",
        "    # Read the test data\n",
        "    test = pd.read_csv('https://raw.githubusercontent.com/serivan/mldmlab/master/Datasets/Kaggle2020/test.csv')\n",
        "\n",
        "\n",
        "    # Treat the test data in the same way as training data. In this case, pull same columns.\n",
        "    test_X = test[predictor_cols]\n",
        "\n",
        "    # Impute each test item, then predict\n",
        "    test_X_imp = imp.transform(test_X)\n",
        "    \n",
        "    # Use the model to make predictions\n",
        "    predicted_q = myModel.predict(test_X_imp)\n",
        "    # We will look at the predicted Qualities to ensure we have something sensible.\n",
        "    print(predicted_q)\n",
        "    \n",
        "    #submission file\n",
        "    my_submission = pd.DataFrame({'Id': test.Id, 'Quality': predicted_q})\n",
        "    # you could use any filename. We choose submission here\n",
        "    my_submission.to_csv(submissionFile, index=False)\n",
        "    \n",
        "    #Submit authomatically; kaggle API authentication needed\n",
        "    #!kaggle competitions submit -c mldm-classification-competition-2020 -f {submissionFile} -m '{description}'"
      ],
      "execution_count": null,
      "outputs": []
    },
    {
      "cell_type": "code",
      "metadata": {
        "id": "zOjDBnxsLqXD",
        "colab_type": "code",
        "colab": {}
      },
      "source": [
        "from sklearn.model_selection import GridSearchCV\n",
        "from sklearn.model_selection import StratifiedKFold"
      ],
      "execution_count": null,
      "outputs": []
    },
    {
      "cell_type": "code",
      "metadata": {
        "id": "8Oi1-YS1LqXM",
        "colab_type": "code",
        "colab": {}
      },
      "source": [
        "#DA CAMBIARE! METODO E PARAMETRI\n",
        "dtc = DecisionTreeClassifier()\n",
        "#Range di parametri che vengono esplorati per trovare la combinazione migliore\n",
        "\n",
        "parameter_grid = {'criterion':['gini','entropy'],\n",
        "                  'splitter': ['best'],\n",
        "                  'max_depth': [3,5,7],\n",
        "                  'min_samples_split':[2,3,4],\n",
        "                  'min_impurity_decrease': [0.0, 0.1, 0.5], \n",
        "                  'max_features': [3, 5, 7]\n",
        "                  }\n",
        "\n",
        "\n",
        "cross_validation = StratifiedKFold(n_splits=10)\n",
        "cross_validation.get_n_splits(train_X_imp, train_y)\n",
        "#Create the scoring dictionary\n",
        "SCORING = {'accuracy': 'accuracy',\n",
        "'balanced_accuracy': 'balanced_accuracy',\n",
        "'precision': 'precision_macro',\n",
        "'recall': 'recall_macro',\n",
        "'f1': 'f1_macro'}\n",
        "\n",
        "#grid_search = GridSearchCV(dtc, param_grid=parameter_grid, cv=cross_validation)\n",
        "grid_search = GridSearchCV(dtc, param_grid=parameter_grid, cv=cross_validation, scoring=SCORING,return_train_score=True, refit='f1')\n",
        "\n",
        "grid_search.fit(xTrain, yTrain)\n"
      ],
      "execution_count": null,
      "outputs": []
    },
    {
      "cell_type": "code",
      "metadata": {
        "id": "D1fi-vRcLqXW",
        "colab_type": "code",
        "colab": {}
      },
      "source": [
        "grid_search.cv_results_"
      ],
      "execution_count": null,
      "outputs": []
    },
    {
      "cell_type": "code",
      "metadata": {
        "id": "dBPF3eRkLqXj",
        "colab_type": "code",
        "colab": {
          "base_uri": "https://localhost:8080/",
          "height": 173
        },
        "outputId": "2ec15fc6-a973-46b9-ddb9-f6ea1cf53ab2"
      },
      "source": [
        "print('Best score: {}'.format(grid_search.best_score_))\n",
        "print('Best parameters: {}'.format(grid_search.best_params_))\n",
        "\n",
        "best_dtc = grid_search.best_estimator_\n",
        "best_dtc"
      ],
      "execution_count": null,
      "outputs": [
        {
          "output_type": "stream",
          "text": [
            "Best score: 0.7238971580476392\n",
            "Best parameters: {'criterion': 'gini', 'max_depth': 7, 'max_features': 7, 'min_impurity_decrease': 0.0, 'min_samples_split': 3, 'splitter': 'best'}\n"
          ],
          "name": "stdout"
        },
        {
          "output_type": "execute_result",
          "data": {
            "text/plain": [
              "DecisionTreeClassifier(ccp_alpha=0.0, class_weight=None, criterion='gini',\n",
              "                       max_depth=7, max_features=7, max_leaf_nodes=None,\n",
              "                       min_impurity_decrease=0.0, min_impurity_split=None,\n",
              "                       min_samples_leaf=1, min_samples_split=3,\n",
              "                       min_weight_fraction_leaf=0.0, presort='deprecated',\n",
              "                       random_state=None, splitter='best')"
            ]
          },
          "metadata": {
            "tags": []
          },
          "execution_count": 143
        }
      ]
    },
    {
      "cell_type": "code",
      "metadata": {
        "id": "jNmMjs8SLqXu",
        "colab_type": "code",
        "colab": {}
      },
      "source": [
        "my_model=best_dtc\n",
        "my_model.fit(xTrain, yTrain)\n",
        "my_model.score(xTrain, yTrain)"
      ],
      "execution_count": null,
      "outputs": []
    },
    {
      "cell_type": "code",
      "metadata": {
        "id": "d_IeZREYLqX6",
        "colab_type": "code",
        "colab": {}
      },
      "source": [
        "y_pred = my_model.predict(train_X_imp)\n",
        "print(\"Confusion Matrix:\")\n",
        "print(confusion_matrix(train_y, y_pred))\n",
        "\n",
        "print(\"Classification Report:\")\n",
        "print(classification_report(train_y, y_pred))"
      ],
      "execution_count": null,
      "outputs": []
    },
    {
      "cell_type": "code",
      "metadata": {
        "id": "97UBgbYNLqYG",
        "colab_type": "code",
        "colab": {
          "base_uri": "https://localhost:8080/",
          "height": 390
        },
        "outputId": "1d599de0-8c58-4477-f189-e725a1d3c77b"
      },
      "source": [
        "# The snippet below will retrieve the feature importances from the model and make them into a DataFrame.\n",
        "feature_importances = pd.DataFrame(my_model.feature_importances_,\n",
        "                                   index = train_X.columns,\n",
        "                                   columns=['importance']).sort_values('importance', ascending=False)\n",
        "feature_importances"
      ],
      "execution_count": null,
      "outputs": [
        {
          "output_type": "execute_result",
          "data": {
            "text/html": [
              "<div>\n",
              "<style scoped>\n",
              "    .dataframe tbody tr th:only-of-type {\n",
              "        vertical-align: middle;\n",
              "    }\n",
              "\n",
              "    .dataframe tbody tr th {\n",
              "        vertical-align: top;\n",
              "    }\n",
              "\n",
              "    .dataframe thead th {\n",
              "        text-align: right;\n",
              "    }\n",
              "</style>\n",
              "<table border=\"1\" class=\"dataframe\">\n",
              "  <thead>\n",
              "    <tr style=\"text-align: right;\">\n",
              "      <th></th>\n",
              "      <th>importance</th>\n",
              "    </tr>\n",
              "  </thead>\n",
              "  <tbody>\n",
              "    <tr>\n",
              "      <th>volatile.acidity</th>\n",
              "      <td>0.198821</td>\n",
              "    </tr>\n",
              "    <tr>\n",
              "      <th>alcohol</th>\n",
              "      <td>0.185064</td>\n",
              "    </tr>\n",
              "    <tr>\n",
              "      <th>total.sulfur.dioxide</th>\n",
              "      <td>0.167412</td>\n",
              "    </tr>\n",
              "    <tr>\n",
              "      <th>density</th>\n",
              "      <td>0.129767</td>\n",
              "    </tr>\n",
              "    <tr>\n",
              "      <th>free.sulfur.dioxide</th>\n",
              "      <td>0.069893</td>\n",
              "    </tr>\n",
              "    <tr>\n",
              "      <th>sulphates</th>\n",
              "      <td>0.060521</td>\n",
              "    </tr>\n",
              "    <tr>\n",
              "      <th>residual.sugar</th>\n",
              "      <td>0.049550</td>\n",
              "    </tr>\n",
              "    <tr>\n",
              "      <th>fixed.acidity</th>\n",
              "      <td>0.044187</td>\n",
              "    </tr>\n",
              "    <tr>\n",
              "      <th>citric.acid</th>\n",
              "      <td>0.033479</td>\n",
              "    </tr>\n",
              "    <tr>\n",
              "      <th>chlorides</th>\n",
              "      <td>0.031538</td>\n",
              "    </tr>\n",
              "    <tr>\n",
              "      <th>pH</th>\n",
              "      <td>0.029767</td>\n",
              "    </tr>\n",
              "  </tbody>\n",
              "</table>\n",
              "</div>"
            ],
            "text/plain": [
              "                      importance\n",
              "volatile.acidity        0.198821\n",
              "alcohol                 0.185064\n",
              "total.sulfur.dioxide    0.167412\n",
              "density                 0.129767\n",
              "free.sulfur.dioxide     0.069893\n",
              "sulphates               0.060521\n",
              "residual.sugar          0.049550\n",
              "fixed.acidity           0.044187\n",
              "citric.acid             0.033479\n",
              "chlorides               0.031538\n",
              "pH                      0.029767"
            ]
          },
          "metadata": {
            "tags": []
          },
          "execution_count": 157
        }
      ]
    },
    {
      "cell_type": "code",
      "metadata": {
        "colab_type": "code",
        "id": "S5SUv2uHe47m",
        "colab": {
          "base_uri": "https://localhost:8080/",
          "height": 34
        },
        "outputId": "38cdf024-3d9e-4292-c11f-bb4bcec7254e"
      },
      "source": [
        "# generate a submission file\n",
        "generateSubmission(my_model,'DecisionTreeGridSearchITER28.csv', \"User defined decision tree evaluated with Grid Search and SCORE\")"
      ],
      "execution_count": null,
      "outputs": [
        {
          "output_type": "stream",
          "text": [
            "[0 1 1 ... 1 1 1]\n"
          ],
          "name": "stdout"
        }
      ]
    }
  ]
}
