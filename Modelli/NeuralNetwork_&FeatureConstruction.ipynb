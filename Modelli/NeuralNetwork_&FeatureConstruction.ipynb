{
  "nbformat": 4,
  "nbformat_minor": 0,
  "metadata": {
    "colab": {
      "name": "NeuralNetwork_&FeatureConstruction.ipynb",
      "provenance": [],
      "authorship_tag": "ABX9TyOIz6LEesTkS8ilLdjLU+n2",
      "include_colab_link": true
    },
    "kernelspec": {
      "name": "python3",
      "display_name": "Python 3"
    }
  },
  "cells": [
    {
      "cell_type": "markdown",
      "metadata": {
        "id": "view-in-github",
        "colab_type": "text"
      },
      "source": [
        "<a href=\"https://colab.research.google.com/github/AndreaBertoglio/MLDM/blob/master/NeuralNetwork_%26FeatureConstruction.ipynb\" target=\"_parent\"><img src=\"https://colab.research.google.com/assets/colab-badge.svg\" alt=\"Open In Colab\"/></a>"
      ]
    },
    {
      "cell_type": "code",
      "metadata": {
        "id": "Qrwy_4w26J7Q",
        "colab_type": "code",
        "colab": {}
      },
      "source": [
        "# This Python 3 environment comes with many helpful analytics libraries installed\n",
        "# It is defined by the kaggle/python Docker image: https://github.com/kaggle/docker-python\n",
        "# For example, here's several helpful packages to load\n",
        "\n",
        "import numpy as np # linear algebra\n",
        "import pandas as pd # data processing, CSV file I/O (e.g. pd.read_csv)\n",
        "\n",
        "# Input data files are available in the read-only \"../input/\" directory\n",
        "# For example, running this (by clicking run or pressing Shift+Enter) will list all files under the input directory\n",
        "\n",
        "\n"
      ],
      "execution_count": null,
      "outputs": []
    },
    {
      "cell_type": "code",
      "metadata": {
        "id": "GnBHGcu06XIa",
        "colab_type": "code",
        "colab": {
          "base_uri": "https://localhost:8080/",
          "height": 92
        },
        "outputId": "ab06c251-408b-4da6-f48c-ef6b3d228bed"
      },
      "source": [
        "import seaborn as sns\n",
        "from sklearn.preprocessing import MinMaxScaler, normalize, StandardScaler, LabelEncoder\n",
        "from sklearn.ensemble import RandomForestRegressor, RandomForestClassifier\n",
        "from sklearn.tree import DecisionTreeClassifier, DecisionTreeRegressor\n",
        "from sklearn.model_selection import train_test_split\n",
        "import matplotlib.pyplot as plt\n",
        "from sklearn.metrics import accuracy_score, r2_score\n",
        "from sklearn.svm import SVC\n",
        "\n",
        "from sklearn.experimental import enable_iterative_imputer\n",
        "from sklearn.impute import IterativeImputer\n",
        "\n",
        "from sklearn.ensemble import RandomForestClassifier\n",
        "from sklearn.impute import SimpleImputer\n",
        "\n",
        "from sklearn.model_selection import train_test_split\n",
        "from sklearn.metrics import classification_report, confusion_matrix\n",
        "\n",
        "\n",
        "from keras.models import Sequential\n",
        "from keras.layers import Dense\n",
        "from keras.optimizers import Adam, RMSprop\n",
        "from keras.losses import sparse_categorical_crossentropy, binary_crossentropy\n",
        "from keras.metrics import Accuracy"
      ],
      "execution_count": null,
      "outputs": [
        {
          "output_type": "stream",
          "text": [
            "/usr/local/lib/python3.6/dist-packages/statsmodels/tools/_testing.py:19: FutureWarning: pandas.util.testing is deprecated. Use the functions in the public API at pandas.testing instead.\n",
            "  import pandas.util.testing as tm\n",
            "Using TensorFlow backend.\n"
          ],
          "name": "stderr"
        }
      ]
    },
    {
      "cell_type": "code",
      "metadata": {
        "id": "o4p1nJoh6aij",
        "colab_type": "code",
        "colab": {}
      },
      "source": [
        "data = pd.read_csv('https://raw.githubusercontent.com/serivan/mldmlab/master/Datasets/Kaggle2020/train.csv')\n",
        "data"
      ],
      "execution_count": null,
      "outputs": []
    },
    {
      "cell_type": "code",
      "metadata": {
        "id": "Q-_Yu_Fl6puF",
        "colab_type": "code",
        "colab": {}
      },
      "source": [
        "data[\"Quality\"] = np.where(data[\"Quality\"].str.contains(\"Good\"), 1, 0)\n",
        "\n",
        "train_y = data[\"Quality\"]\n",
        "\n",
        "citricacid = data['fixed.acidity'] * data['citric.acid']\n",
        "citric_acidity = pd.DataFrame(citricacid, columns=['citric_accidity'])\n",
        "\n",
        "density_acidity = data['fixed.acidity'] * data['density']\n",
        "density_acidity = pd.DataFrame(density_acidity, columns=['density_acidity'])\n",
        "\n",
        "\n",
        "datafinal = data.join(citric_acidity).join(density_acidity)\n",
        "predictor_cols = ['fixed.acidity','volatile.acidity','citric.acid','residual.sugar','chlorides','free.sulfur.dioxide','total.sulfur.dioxide','density','pH','sulphates','alcohol','density_acidity','citric_accidity']\n",
        "\n",
        "# La x sono gli attributi\n",
        "train_X = datafinal[predictor_cols]\n",
        "\n",
        "# Sostituisce i missing values con la media e lo applica alle x\n",
        "\n",
        "#imp = SimpleImputer(missing_values=np.nan, strategy='mean')\n",
        "imp = IterativeImputer(missing_values=np.nan, max_iter=30)\n",
        "imp = imp.fit(train_X)\n",
        "\n",
        "\n",
        "# Impute our data, then train\n",
        "train_X_imp = imp.transform(train_X)"
      ],
      "execution_count": null,
      "outputs": []
    },
    {
      "cell_type": "code",
      "metadata": {
        "id": "c0u4hepq7dM3",
        "colab_type": "code",
        "colab": {}
      },
      "source": [
        "xTrain, xTest, yTrain, yTest = train_test_split(train_X_imp, train_y,  random_state = 0) #train_size = 0.8"
      ],
      "execution_count": null,
      "outputs": []
    },
    {
      "cell_type": "code",
      "metadata": {
        "id": "yf8mgdN17hF5",
        "colab_type": "code",
        "colab": {}
      },
      "source": [
        "scale = StandardScaler()\n",
        "\n",
        "scaledtrain = scale.fit_transform(xTrain)\n",
        "scaledtest = scale.transform(xTest)"
      ],
      "execution_count": null,
      "outputs": []
    },
    {
      "cell_type": "code",
      "metadata": {
        "id": "OK-nIC9O7nNN",
        "colab_type": "code",
        "colab": {}
      },
      "source": [
        "\n",
        "\n",
        "NeuralModel = Sequential([\n",
        "                          Dense(128, activation='relu', input_shape=(13,)),\n",
        "                          Dense(32, activation='relu'),\n",
        "                          Dense(64, activation='relu'),\n",
        "                          Dense(64, activation='relu'),\n",
        "                          Dense(64, activation='relu'),\n",
        "                          Dense(1, activation='sigmoid')\n",
        "])\n",
        "\n",
        "rms = Adam(lr=0.0003)\n",
        "\n",
        "model = NeuralModel.compile(optimizer=rms, loss='binary_crossentropy', metrics=['accuracy'])"
      ],
      "execution_count": null,
      "outputs": []
    },
    {
      "cell_type": "code",
      "metadata": {
        "id": "Y-BDj0q_7y65",
        "colab_type": "code",
        "colab": {}
      },
      "source": [
        "hist = NeuralModel.fit(scaledtrain, yTrain, epochs=1000, validation_data=(scaledtest,yTest))"
      ],
      "execution_count": null,
      "outputs": []
    },
    {
      "cell_type": "code",
      "metadata": {
        "id": "0c8N2VXP81hS",
        "colab_type": "code",
        "colab": {}
      },
      "source": [
        "def generateSubmission(myModel, submissionFile, description):\n",
        "    # Read the test data\n",
        "    test = pd.read_csv('https://raw.githubusercontent.com/serivan/mldmlab/master/Datasets/Kaggle2020/train.csv')\n",
        "    \n",
        "    citricacid = test['fixed.acidity'] * test['citric.acid']\n",
        "    citric_acidity = pd.DataFrame(citricacid, columns=['citric_accidity'])\n",
        "\n",
        "    density_acidity = test['fixed.acidity'] * data['density']\n",
        "    density_acidity = pd.DataFrame(density_acidity, columns=['density_acidity'])\n",
        "\n",
        "\n",
        "    testF = test.join(citric_acidity).join(density_acidity)\n",
        "    \n",
        "\n",
        "    # Treat the test data in the same way as training data. In this case, pull same columns.\n",
        "    test_X = testF[predictor_cols]\n",
        "\n",
        "    # Impute each test item, then predict\n",
        "    test_X_imp = imp.transform(test_X)\n",
        "    \n",
        "    # Use the model to make predictions\n",
        "    predicted_q = myModel.predict(test_X_imp)\n",
        "    # We will look at the predicted Qualities to ensure we have something sensible.\n",
        "    print(predicted_q)\n",
        "    \n",
        "    #submission file\n",
        "    my_submission = pd.DataFrame({'Id': test.Id, 'Quality': predicted_q})\n",
        "    # you could use any filename. We choose submission here\n",
        "    my_submission.to_csv(submissionFile, index=False)\n",
        "    "
      ],
      "execution_count": null,
      "outputs": []
    },
    {
      "cell_type": "code",
      "metadata": {
        "id": "OhdfZ0oN9hAE",
        "colab_type": "code",
        "colab": {}
      },
      "source": [
        "generateSubmission(NeuralModel, \"NNproAP\")"
      ],
      "execution_count": null,
      "outputs": []
    }
  ]
}
