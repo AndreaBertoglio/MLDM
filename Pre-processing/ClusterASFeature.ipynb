{
  "nbformat": 4,
  "nbformat_minor": 0,
  "metadata": {
    "colab": {
      "name": "ClusterASFeature",
      "provenance": [],
      "authorship_tag": "ABX9TyOzauGmwcdeechRaLChMB/U",
      "include_colab_link": true
    },
    "kernelspec": {
      "name": "python3",
      "display_name": "Python 3"
    }
  },
  "cells": [
    {
      "cell_type": "markdown",
      "metadata": {
        "id": "view-in-github",
        "colab_type": "text"
      },
      "source": [
        "<a href=\"https://colab.research.google.com/github/AndreaBertoglio/MLDM/blob/master/Pre-processing/ClusterASFeature.ipynb\" target=\"_parent\"><img src=\"https://colab.research.google.com/assets/colab-badge.svg\" alt=\"Open In Colab\"/></a>"
      ]
    },
    {
      "cell_type": "markdown",
      "metadata": {
        "id": "hTlgMRI20Nip",
        "colab_type": "text"
      },
      "source": [
        "### Import"
      ]
    },
    {
      "cell_type": "code",
      "metadata": {
        "id": "lgpwVlcRBkef",
        "colab_type": "code",
        "colab": {}
      },
      "source": [
        "# Python ≥3.5 is required\n",
        "import sys\n",
        "assert sys.version_info >= (3, 5)\n",
        "\n",
        "# Scikit-Learn ≥0.20 is required\n",
        "import sklearn\n",
        "assert sklearn.__version__ >= \"0.20\"\n",
        "\n",
        "# Common imports\n",
        "import numpy as np\n",
        "import os\n",
        "\n",
        "# to make this notebook's output stable across runs\n",
        "np.random.seed(2020)"
      ],
      "execution_count": null,
      "outputs": []
    },
    {
      "cell_type": "code",
      "metadata": {
        "id": "TDhdWJMuB1fC",
        "colab_type": "code",
        "colab": {}
      },
      "source": [
        "import pandas as pd\n",
        "import graphviz\n",
        "from sklearn.experimental import enable_iterative_imputer\n",
        "from sklearn.impute import IterativeImputer\n",
        "\n",
        "from sklearn.ensemble import RandomForestClassifier\n",
        "from sklearn.impute import SimpleImputer\n",
        "from sklearn.model_selection import train_test_split\n",
        "from sklearn.metrics import classification_report, confusion_matrix\n",
        "from sklearn.cluster import KMeans"
      ],
      "execution_count": null,
      "outputs": []
    },
    {
      "cell_type": "markdown",
      "metadata": {
        "id": "OpNUOfXs0Sh9",
        "colab_type": "text"
      },
      "source": [
        "### Preparazione e merge dei dati"
      ]
    },
    {
      "cell_type": "code",
      "metadata": {
        "id": "g4guhprdBrat",
        "colab_type": "code",
        "colab": {}
      },
      "source": [
        "train = pd.read_csv('https://raw.githubusercontent.com/serivan/mldmlab/master/Datasets/Kaggle2020/train.csv')\n",
        "test = pd.read_csv('https://raw.githubusercontent.com/serivan/mldmlab/master/Datasets/Kaggle2020/test.csv')\n",
        "#Le classi sono 1=Good 0=Disappointing\n",
        "train[\"Quality\"] = np.where(train[\"Quality\"].astype(str).str.contains(\"Good\"), 1, 0)\n"
      ],
      "execution_count": null,
      "outputs": []
    },
    {
      "cell_type": "code",
      "metadata": {
        "id": "Z-2gA9kIDS4C",
        "colab_type": "code",
        "colab": {}
      },
      "source": [
        "\n",
        "#La y è la classe, cioè la Quality\n",
        "train_y = train.Quality\n",
        "#seleziono colonne di interesse, non metto l'ID perchè non mi interessa\n",
        "predictor_cols = ['fixed.acidity','volatile.acidity','citric.acid','residual.sugar','chlorides','free.sulfur.dioxide','total.sulfur.dioxide','density','pH','sulphates','alcohol']\n",
        "\n",
        "\n",
        "train_X = train[predictor_cols]\n",
        "test_X = test[predictor_cols]\n",
        "\n",
        "\n",
        "\n",
        "# Sostituisce i missing values con la media e lo applica alle x\n",
        "\n",
        "imp = IterativeImputer(missing_values=np.nan, max_iter=30)\n",
        "imp = imp.fit(train_X)\n",
        "train_X_imp = imp.transform(train_X)\n",
        "\n",
        "#unisco training set e test set per ottenere un clustering uniforme e coerente tra i due insiemi di dati\n",
        "conc = np.concatenate((train_X_imp, test_X), axis=0)"
      ],
      "execution_count": null,
      "outputs": []
    },
    {
      "cell_type": "markdown",
      "metadata": {
        "id": "41B5buoL1iuT",
        "colab_type": "text"
      },
      "source": [
        "### Clustering"
      ]
    },
    {
      "cell_type": "code",
      "metadata": {
        "id": "6-I0jellCCHA",
        "colab_type": "code",
        "colab": {
          "base_uri": "https://localhost:8080/",
          "height": 35
        },
        "outputId": "1d1c9357-17a0-41c1-dfad-fba9acbe6f00"
      },
      "source": [
        "# Clustering\n",
        "km = sklearn.cluster.KMeans(n_clusters=10)\n",
        "pred = km.fit_predict(conc)\n",
        "\n",
        "# labels\n",
        "labels = km.labels_\n",
        "pred"
      ],
      "execution_count": null,
      "outputs": [
        {
          "output_type": "execute_result",
          "data": {
            "text/plain": [
              "array([7, 3, 7, ..., 7, 5, 0], dtype=int32)"
            ]
          },
          "metadata": {
            "tags": []
          },
          "execution_count": 7
        }
      ]
    },
    {
      "cell_type": "code",
      "metadata": {
        "id": "rLkVIShUqJfv",
        "colab_type": "code",
        "colab": {}
      },
      "source": [
        "#divido le label tra elementi del training set e del test set\n",
        "pred_train=pred[0:3489:1]\n",
        "pred_test=pred[3489::1]"
      ],
      "execution_count": null,
      "outputs": []
    },
    {
      "cell_type": "code",
      "metadata": {
        "id": "tDYZBQpREY8t",
        "colab_type": "code",
        "colab": {
          "base_uri": "https://localhost:8080/",
          "height": 443
        },
        "outputId": "dc698f58-637e-4645-cc2f-b688310efe07"
      },
      "source": [
        "# aggiungo le nuove colonne ai due dataset\n",
        "train['Cluster']=pred_train\n",
        "test['Cluster']=pred_test"
      ],
      "execution_count": null,
      "outputs": [
        {
          "output_type": "execute_result",
          "data": {
            "text/html": [
              "<div>\n",
              "<style scoped>\n",
              "    .dataframe tbody tr th:only-of-type {\n",
              "        vertical-align: middle;\n",
              "    }\n",
              "\n",
              "    .dataframe tbody tr th {\n",
              "        vertical-align: top;\n",
              "    }\n",
              "\n",
              "    .dataframe thead th {\n",
              "        text-align: right;\n",
              "    }\n",
              "</style>\n",
              "<table border=\"1\" class=\"dataframe\">\n",
              "  <thead>\n",
              "    <tr style=\"text-align: right;\">\n",
              "      <th></th>\n",
              "      <th>Id</th>\n",
              "      <th>fixed.acidity</th>\n",
              "      <th>volatile.acidity</th>\n",
              "      <th>citric.acid</th>\n",
              "      <th>residual.sugar</th>\n",
              "      <th>chlorides</th>\n",
              "      <th>free.sulfur.dioxide</th>\n",
              "      <th>total.sulfur.dioxide</th>\n",
              "      <th>density</th>\n",
              "      <th>pH</th>\n",
              "      <th>sulphates</th>\n",
              "      <th>alcohol</th>\n",
              "      <th>Quality</th>\n",
              "      <th>Cluster</th>\n",
              "    </tr>\n",
              "  </thead>\n",
              "  <tbody>\n",
              "    <tr>\n",
              "      <th>0</th>\n",
              "      <td>3940</td>\n",
              "      <td>6.4</td>\n",
              "      <td>0.39</td>\n",
              "      <td>0.21</td>\n",
              "      <td>1.2</td>\n",
              "      <td>41.00</td>\n",
              "      <td>35.0</td>\n",
              "      <td>136.0</td>\n",
              "      <td>0.99225</td>\n",
              "      <td>3.15</td>\n",
              "      <td>0.46</td>\n",
              "      <td>10.2</td>\n",
              "      <td>0</td>\n",
              "      <td>7</td>\n",
              "    </tr>\n",
              "    <tr>\n",
              "      <th>1</th>\n",
              "      <td>1655</td>\n",
              "      <td>7.5</td>\n",
              "      <td>305.00</td>\n",
              "      <td>0.40</td>\n",
              "      <td>18.9</td>\n",
              "      <td>59.00</td>\n",
              "      <td>44.0</td>\n",
              "      <td>170.0</td>\n",
              "      <td>1.00000</td>\n",
              "      <td>2.99</td>\n",
              "      <td>0.46</td>\n",
              "      <td>9.0</td>\n",
              "      <td>0</td>\n",
              "      <td>3</td>\n",
              "    </tr>\n",
              "    <tr>\n",
              "      <th>2</th>\n",
              "      <td>1867</td>\n",
              "      <td>6.3</td>\n",
              "      <td>0.28</td>\n",
              "      <td>0.30</td>\n",
              "      <td>3.1</td>\n",
              "      <td>39.00</td>\n",
              "      <td>24.0</td>\n",
              "      <td>115.0</td>\n",
              "      <td>0.99420</td>\n",
              "      <td>3.05</td>\n",
              "      <td>0.43</td>\n",
              "      <td>8.6</td>\n",
              "      <td>0</td>\n",
              "      <td>7</td>\n",
              "    </tr>\n",
              "    <tr>\n",
              "      <th>3</th>\n",
              "      <td>4476</td>\n",
              "      <td>7.4</td>\n",
              "      <td>0.18</td>\n",
              "      <td>0.30</td>\n",
              "      <td>10.4</td>\n",
              "      <td>45.00</td>\n",
              "      <td>44.0</td>\n",
              "      <td>174.0</td>\n",
              "      <td>0.99660</td>\n",
              "      <td>3.11</td>\n",
              "      <td>0.57</td>\n",
              "      <td>9.7</td>\n",
              "      <td>1</td>\n",
              "      <td>6</td>\n",
              "    </tr>\n",
              "    <tr>\n",
              "      <th>4</th>\n",
              "      <td>453</td>\n",
              "      <td>6.9</td>\n",
              "      <td>0.20</td>\n",
              "      <td>0.36</td>\n",
              "      <td>1.5</td>\n",
              "      <td>31.00</td>\n",
              "      <td>38.0</td>\n",
              "      <td>147.0</td>\n",
              "      <td>0.99310</td>\n",
              "      <td>3.35</td>\n",
              "      <td>0.56</td>\n",
              "      <td>11.0</td>\n",
              "      <td>1</td>\n",
              "      <td>6</td>\n",
              "    </tr>\n",
              "    <tr>\n",
              "      <th>...</th>\n",
              "      <td>...</td>\n",
              "      <td>...</td>\n",
              "      <td>...</td>\n",
              "      <td>...</td>\n",
              "      <td>...</td>\n",
              "      <td>...</td>\n",
              "      <td>...</td>\n",
              "      <td>...</td>\n",
              "      <td>...</td>\n",
              "      <td>...</td>\n",
              "      <td>...</td>\n",
              "      <td>...</td>\n",
              "      <td>...</td>\n",
              "      <td>...</td>\n",
              "    </tr>\n",
              "    <tr>\n",
              "      <th>3484</th>\n",
              "      <td>2768</td>\n",
              "      <td>6.9</td>\n",
              "      <td>0.14</td>\n",
              "      <td>0.38</td>\n",
              "      <td>1.0</td>\n",
              "      <td>41.00</td>\n",
              "      <td>22.0</td>\n",
              "      <td>81.0</td>\n",
              "      <td>0.99043</td>\n",
              "      <td>3.03</td>\n",
              "      <td>0.54</td>\n",
              "      <td>11.4</td>\n",
              "      <td>1</td>\n",
              "      <td>0</td>\n",
              "    </tr>\n",
              "    <tr>\n",
              "      <th>3485</th>\n",
              "      <td>4347</td>\n",
              "      <td>9.0</td>\n",
              "      <td>0.20</td>\n",
              "      <td>0.33</td>\n",
              "      <td>3.5</td>\n",
              "      <td>49.00</td>\n",
              "      <td>10.0</td>\n",
              "      <td>40.0</td>\n",
              "      <td>0.99440</td>\n",
              "      <td>3.14</td>\n",
              "      <td>0.36</td>\n",
              "      <td>9.8</td>\n",
              "      <td>1</td>\n",
              "      <td>0</td>\n",
              "    </tr>\n",
              "    <tr>\n",
              "      <th>3486</th>\n",
              "      <td>1870</td>\n",
              "      <td>7.6</td>\n",
              "      <td>0.29</td>\n",
              "      <td>0.26</td>\n",
              "      <td>6.5</td>\n",
              "      <td>42.00</td>\n",
              "      <td>32.0</td>\n",
              "      <td>160.0</td>\n",
              "      <td>0.99440</td>\n",
              "      <td>3.14</td>\n",
              "      <td>0.47</td>\n",
              "      <td>10.7</td>\n",
              "      <td>0</td>\n",
              "      <td>6</td>\n",
              "    </tr>\n",
              "    <tr>\n",
              "      <th>3487</th>\n",
              "      <td>613</td>\n",
              "      <td>7.5</td>\n",
              "      <td>0.17</td>\n",
              "      <td>0.32</td>\n",
              "      <td>1.7</td>\n",
              "      <td>0.04</td>\n",
              "      <td>51.0</td>\n",
              "      <td>148.0</td>\n",
              "      <td>0.99160</td>\n",
              "      <td>3.21</td>\n",
              "      <td>0.44</td>\n",
              "      <td>11.5</td>\n",
              "      <td>1</td>\n",
              "      <td>6</td>\n",
              "    </tr>\n",
              "    <tr>\n",
              "      <th>3488</th>\n",
              "      <td>1486</td>\n",
              "      <td>6.7</td>\n",
              "      <td>0.24</td>\n",
              "      <td>0.35</td>\n",
              "      <td>13.1</td>\n",
              "      <td>0.05</td>\n",
              "      <td>64.0</td>\n",
              "      <td>205.0</td>\n",
              "      <td>997.00000</td>\n",
              "      <td>3.15</td>\n",
              "      <td>0.50</td>\n",
              "      <td>9.5</td>\n",
              "      <td>0</td>\n",
              "      <td>1</td>\n",
              "    </tr>\n",
              "  </tbody>\n",
              "</table>\n",
              "<p>3489 rows × 14 columns</p>\n",
              "</div>"
            ],
            "text/plain": [
              "        Id  fixed.acidity  volatile.acidity  ...  alcohol  Quality  Cluster\n",
              "0     3940            6.4              0.39  ...     10.2        0        7\n",
              "1     1655            7.5            305.00  ...      9.0        0        3\n",
              "2     1867            6.3              0.28  ...      8.6        0        7\n",
              "3     4476            7.4              0.18  ...      9.7        1        6\n",
              "4      453            6.9              0.20  ...     11.0        1        6\n",
              "...    ...            ...               ...  ...      ...      ...      ...\n",
              "3484  2768            6.9              0.14  ...     11.4        1        0\n",
              "3485  4347            9.0              0.20  ...      9.8        1        0\n",
              "3486  1870            7.6              0.29  ...     10.7        0        6\n",
              "3487   613            7.5              0.17  ...     11.5        1        6\n",
              "3488  1486            6.7              0.24  ...      9.5        0        1\n",
              "\n",
              "[3489 rows x 14 columns]"
            ]
          },
          "metadata": {
            "tags": []
          },
          "execution_count": 17
        }
      ]
    },
    {
      "cell_type": "markdown",
      "metadata": {
        "id": "jB0IQ75Y1oG3",
        "colab_type": "text"
      },
      "source": [
        "### Esportazione dei dataset"
      ]
    },
    {
      "cell_type": "code",
      "metadata": {
        "id": "JTEVUnMsE8wz",
        "colab_type": "code",
        "colab": {}
      },
      "source": [
        "#esporto i dataset\n",
        "train.to_csv(\"TrainCluster2.csv\", index=False)\n",
        "test.to_csv(\"TestCluster2.csv\", index=False)"
      ],
      "execution_count": null,
      "outputs": []
    }
  ]
}