{
  "nbformat": 4,
  "nbformat_minor": 0,
  "metadata": {
    "colab": {
      "name": "Feature_Engineering.ipynb",
      "provenance": [],
      "authorship_tag": "ABX9TyPX5RzuYHOmZ3v+Zpsv8v3f",
      "include_colab_link": true
    },
    "kernelspec": {
      "name": "python3",
      "display_name": "Python 3"
    }
  },
  "cells": [
    {
      "cell_type": "markdown",
      "metadata": {
        "id": "view-in-github",
        "colab_type": "text"
      },
      "source": [
        "<a href=\"https://colab.research.google.com/github/AndreaBertoglio/MLDM/blob/master/Feature_Engineering.ipynb\" target=\"_parent\"><img src=\"https://colab.research.google.com/assets/colab-badge.svg\" alt=\"Open In Colab\"/></a>"
      ]
    },
    {
      "cell_type": "markdown",
      "metadata": {
        "id": "IZyXeSUVjQyH",
        "colab_type": "text"
      },
      "source": [
        "### Import"
      ]
    },
    {
      "cell_type": "code",
      "metadata": {
        "id": "M3hlre9DjS6P",
        "colab_type": "code",
        "colab": {
          "base_uri": "https://localhost:8080/",
          "height": 36
        },
        "outputId": "c86d6493-c6e2-4597-ec5b-32552e649f40"
      },
      "source": [
        "import pip\n",
        "import sys\n",
        "#if not 'sklearn' in sys.modules.keys():\n",
        "#    pip.main(['install', 'sklearn'])\n",
        "#if not 'kaggle' in sys.modules.keys():\n",
        "#    pip.main(['install', 'kaggle'])\n",
        "import random\n",
        "import shelve\n",
        "\n",
        "print(\"Random number with seed 2020\")\n",
        "# first call\n",
        "random.seed(2020)"
      ],
      "execution_count": null,
      "outputs": [
        {
          "output_type": "stream",
          "text": [
            "Random number with seed 2020\n"
          ],
          "name": "stdout"
        }
      ]
    },
    {
      "cell_type": "code",
      "metadata": {
        "id": "bVRgeofBjXqG",
        "colab_type": "code",
        "colab": {}
      },
      "source": [
        "import numpy as np\n",
        "import pandas as pd\n",
        "import graphviz\n",
        "\n",
        "from pylab import *\n",
        "from numpy import *\n",
        "\n",
        "from sklearn.experimental import enable_iterative_imputer\n",
        "from sklearn.impute import SimpleImputer\n",
        "from sklearn.impute import IterativeImputer\n",
        "from sklearn.preprocessing import StandardScaler\n",
        "\n",
        "import matplotlib.pyplot as plt"
      ],
      "execution_count": null,
      "outputs": []
    },
    {
      "cell_type": "markdown",
      "metadata": {
        "id": "dXTcNrLY1QA1",
        "colab_type": "text"
      },
      "source": [
        "### Funzioni di caricamento e salvataggio del training set"
      ]
    },
    {
      "cell_type": "code",
      "metadata": {
        "id": "GY96JBi0x3I-",
        "colab_type": "code",
        "colab": {}
      },
      "source": [
        "# Carica il training set dalla fonte specificata\n",
        "\n",
        "# Parametri:\n",
        "# filePath = stringa, locazione del file (default file GitHub di Serina)\n",
        "\n",
        "# Return:\n",
        "# pandas dataFrame, training set\n",
        "\n",
        "def loadTrainingSet(filePath='https://raw.githubusercontent.com/serivan/mldmlab/master/Datasets/Kaggle2020/train.csv'):\n",
        "  train = pd.read_csv(filePath)\n",
        "  train[\"Quality\"] = np.where(train[\"Quality\"].str.contains(\"Good\"), 1, 0)\n",
        "\n",
        "  return train"
      ],
      "execution_count": null,
      "outputs": []
    },
    {
      "cell_type": "code",
      "metadata": {
        "id": "SRx0JXa_8Pad",
        "colab_type": "code",
        "colab": {}
      },
      "source": [
        "# Esporta un training set rielaborato in un file csv\n",
        "\n",
        "# Parametri:\n",
        "# training_set = pandas DataFrame, training set da esportare\n",
        "# faileName = stringa, nome del file\n",
        "\n",
        "def exportTrainingSet(training_set, fileName):\n",
        "  \n",
        "    training.to_csv(fileName, index=False)"
      ],
      "execution_count": null,
      "outputs": []
    },
    {
      "cell_type": "markdown",
      "metadata": {
        "id": "V3_K_dUbfwDt",
        "colab_type": "text"
      },
      "source": [
        "# Funzioni di Pre-processing"
      ]
    },
    {
      "cell_type": "markdown",
      "metadata": {
        "id": "9HAcQRQ1h47X",
        "colab_type": "text"
      },
      "source": [
        "### Unità di misura"
      ]
    },
    {
      "cell_type": "code",
      "metadata": {
        "id": "GpEWp0ytfrKI",
        "colab_type": "code",
        "colab": {}
      },
      "source": [
        "# Riscrive parte dei dati per uniformare le unità di misura.\n",
        "# Nello specifico riscala la volatile acidity da milligrammi a grammi\n",
        "# la densità da kg/m3 a g/cm3, infine se specificato riscala anche i chlorides (da mg a g)\n",
        "\n",
        "# Parametri: \n",
        "# trainig_set = pandas DataFrame, set di dati da elaborare\n",
        "# scale_chlorides = booleano, specifica se scalare i chlorides\n",
        "\n",
        "def scaleMeasureUnit(training_set, scale_chlorides=False):\n",
        "  \n",
        "  row = training_set.shape[0]\n",
        "  \n",
        "  for i in range(row):\n",
        "    if training_set['volatile.acidity'][i]>1:\n",
        "      training_set['volatile.acidity'][i] = training_set['volatile.acidity'][i] / 1000\n",
        "    \n",
        "    if scale_chlorides:\n",
        "      if training_set['chlorides'][i]>1:\n",
        "        training_set['chlorides'][i] = training_set['chlorides'][i] / 1000\n",
        "    \n",
        "    if training_set['density'][i]>1.5:\n",
        "      training_set['density'][i] = training_set['density'][i] /1000"
      ],
      "execution_count": null,
      "outputs": []
    },
    {
      "cell_type": "markdown",
      "metadata": {
        "id": "paR6w5zTyU2R",
        "colab_type": "text"
      },
      "source": [
        "### Missing Values"
      ]
    },
    {
      "cell_type": "code",
      "metadata": {
        "id": "McQba0KSybr8",
        "colab_type": "code",
        "colab": {}
      },
      "source": [
        "# Sostituisce i missing value in maniera semplicistica\n",
        "# In particolare usa un Imputer specificato con strategia 'mean'\n",
        "\n",
        "# Parametri:\n",
        "# training_set = pandas DataFrame, set di dati da elaborare\n",
        "# imputer = stringa, definisce il tipo di imputer da utilizzare ('simple' o 'iterative', default 'simple')\n",
        "\n",
        "# Return:\n",
        "# panda DataFrame, set di dati con missing values sostituiti\n",
        "\n",
        "def handleMissingValue(training_set, imputer='simple'):\n",
        "  train_missing = training_set\n",
        "\n",
        "  if imputer=='simple':\n",
        "    imputer = SimpleImputer(missing_values=np.nan, strategy='mean')\n",
        "  else:\n",
        "    if imputer=='iterative':\n",
        "      imputer = IterativeImputer(missing_values=np.nan, initial_strategy='mean')\n",
        "\n",
        "  imputer = imputer.fit(train_missing)\n",
        "  train_filled = imputer.transform(train_missing)\n",
        "\n",
        "\n",
        "  train_filled = np.transpose(train_filled)\n",
        "  train_filled.shape\n",
        "\n",
        "  dati = {'Id': train_filled[0],\n",
        "          'fixed.acidity': train_filled[1],\n",
        "          'volatile.acidity': train_filled[2],\n",
        "          'citric.acid': train_filled[3],\n",
        "          'residual.sugar': train_filled[4],\n",
        "          'chlorides': train_filled[5],\n",
        "          'free.sulfur.dioxide': train_filled[6],\n",
        "          'total.sulfur.dioxide': train_filled[7],\n",
        "          'density': train_filled[8],\n",
        "          'pH': train_filled[9],\n",
        "          'sulphates': train_filled[10],\n",
        "          'alcohol': train_filled[11],\n",
        "          'Quality': train_filled[12]}\n",
        "\n",
        "  training_set_filled = pd.DataFrame(data=dati)\n",
        "  return training_set_filled"
      ],
      "execution_count": null,
      "outputs": []
    },
    {
      "cell_type": "markdown",
      "metadata": {
        "id": "Ir_1mfBWh8RY",
        "colab_type": "text"
      },
      "source": [
        "### Scalatura"
      ]
    },
    {
      "cell_type": "code",
      "metadata": {
        "id": "tUrIUsaXiNur",
        "colab_type": "code",
        "colab": {}
      },
      "source": [
        "# Riscrive i dati del set portandoli in una scala uniforme.\n",
        "# In particolare sostituisce ogni dato d con (d-u)/v\n",
        "# dove u è la media e v la deviazione standard dei valori della feature\n",
        "\n",
        "# Parametri:\n",
        "# trainig_set = pandas DataFrame, set di dati da elaborare\n",
        "# columns = lista di stringhe, nomi delle colonne su cui effettuare la scalatura\n",
        "\n",
        "\n",
        "def scaler(training_set, columns):\n",
        "  row = training_set.shape[0]\n",
        "\n",
        "  for feature in columns:\n",
        "    _mean = pd.Series.mean(training_set[feature])\n",
        "    _var = pd.Series.std(training_set[feature])\n",
        "    for i in range (row):\n",
        "      training_set[feature][i] = (training_set[feature][i]-_mean)/_var"
      ],
      "execution_count": null,
      "outputs": []
    },
    {
      "cell_type": "markdown",
      "metadata": {
        "id": "W0XyNqCUjF3u",
        "colab_type": "text"
      },
      "source": [
        "### Rimozione Outliers per ogni feature"
      ]
    },
    {
      "cell_type": "code",
      "metadata": {
        "id": "OgmpSnN5jN7y",
        "colab_type": "code",
        "colab": {}
      },
      "source": [
        "# Calcola e sostituisce gli outliers rilevati per ogni feature di ogni dato.\n",
        "# In particolare attribuisce ad ogni dato uno score e sostituisce tutti i valori che hanno uno score superiore\n",
        "# a una soglia specificata.\n",
        "# Lo score è così calcolato: score = |dato-u|/v\n",
        "# con u la media e v la deviazione standard della feature considerata\n",
        "\n",
        "# Parametri:\n",
        "# training_set = pandas DataFrame, set di dati da elaborare\n",
        "# columns = lista di stringhe, nomi delle feature su cui analizzare i dati\n",
        "# threeshold = numero, soglia di rilevazione degli outliers, considera outliers i dati con distanza dalla media superiore\n",
        "#              a threeshold * deviazione standard (default 1)\n",
        "# sub = numero, valore da sostituire agli outliers (default NaN)\n",
        "# verbose = booleano, indica se stampare la descrizione dell'esecuzione (default False)\n",
        "\n",
        "def featureOutlierSubstitution(training_set, columns, threeshold=1, sub=np.nan, verbose=False):\n",
        "  row = training_set.shape[0]\n",
        "  count = 0\n",
        "\n",
        "  if verbose:\n",
        "    print('start')\n",
        "\n",
        "  for feature in columns:\n",
        "    countF=0\n",
        "    _mean = pd.Series.mean(training_set[feature])\n",
        "    _var = pd.Series.std(training_set[feature])\n",
        "    for i in range(row):\n",
        "      score = abs(training_set[feature][i]-_mean)/_var\n",
        "      if score>=threeshold:\n",
        "        countF= countF+1\n",
        "        count = count+1\n",
        "        training_set[feature][i]=sub\n",
        "        if verbose:\n",
        "          print('elem ' + str(i) + ' in ' + feature + ' outlier with score: ' + str(score))\n",
        "    if verbose:\n",
        "      print(feature + ': ' + str(countF))\n",
        "  if verbose:\n",
        "    print('end, numero elementi: ' + str(count))"
      ],
      "execution_count": null,
      "outputs": []
    },
    {
      "cell_type": "markdown",
      "metadata": {
        "id": "_CNl0C_luU5e",
        "colab_type": "text"
      },
      "source": [
        "### Matrici delle distanze"
      ]
    },
    {
      "cell_type": "code",
      "metadata": {
        "id": "Rjg4Vmxzr1T8",
        "colab_type": "code",
        "colab": {}
      },
      "source": [
        "# Calcola la distanza di ogni punto da tutti gli altri aventi una featurepari ad un determinato valore\n",
        "# In particolare, colcola la distanza euclidea tra i punti che hanno in corrispondenza della feature targetClass\n",
        "# il valore targetValue, per tutti gli altri valore si utilizza -1\n",
        "# NOTA: IMPIEGA MOLTO TEMPO!!!\n",
        "\n",
        "# Parametri:\n",
        "# training = pandas DataFrame, set di dati da elaborare\n",
        "# columns = lista di stringhe, nomi delle feature da considerare per la distanza\n",
        "# targetClass = stringa, nome della feature su cui effettuare lo split per il calcolo delle distanze\n",
        "# targetValue = numero, valore della feature che i dati devono rispettare per calcolarne la dostanza\n",
        "\n",
        "# Return:\n",
        "# matrice delle distanze\n",
        "\n",
        "def quadraticDistance(training, columns, targetClass, targetValue):\n",
        "  row = training.shape[0]\n",
        "  distances = zeros((row,row))\n",
        "\n",
        "  for i in range (row):\n",
        "    if training[targetClass][i] == targetValue:\n",
        "      for j in range (row):\n",
        "        if i>j:\n",
        "          distances[i][j] = distances[j][i]\n",
        "        else:\n",
        "          if (training[targetClass][j] == targetValue and j != i):  \n",
        "            value = 0\n",
        "            for feature in columns:\n",
        "              value = value + (training[feature][i]-training[feature][j])**2\n",
        "            #end for\n",
        "            distances[i][j]=value\n",
        "          else:\n",
        "            distances[i][j]=-1\n",
        "          #end if\n",
        "        #end if\n",
        "      #end for\n",
        "    else:\n",
        "      for j in range(row):\n",
        "        distances[i][j]=-1\n",
        "      #end for\n",
        "    #end if\n",
        "  #end for\n",
        "  return distances"
      ],
      "execution_count": null,
      "outputs": []
    },
    {
      "cell_type": "code",
      "metadata": {
        "id": "vBFyGyQ3tBJB",
        "colab_type": "code",
        "colab": {}
      },
      "source": [
        "# Calcola le matrici delle distanze per Quality = good e Qualiti = bad\n",
        "\n",
        "# Parametri:\n",
        "# training_set = pandas DataFrame, set di dati da elaborare\n",
        "\n",
        "# Return:\n",
        "# una lista di due elementi, indice 0 = matrice per good, indice 1 = matrice per bad \n",
        "\n",
        "def computeDistanceMatrixes(training_set):\n",
        "  col = ['fixed.acidity','volatile.acidity','citric.acid','residual.sugar','chlorides','free.sulfur.dioxide','total.sulfur.dioxide','density','pH','sulphates','alcohol']\n",
        "\n",
        "  scaler(training_set,col)\n",
        "\n",
        "  distance_matrix_bad = quadraticDistance(training=training_set, columns=col, targetClass='Quality', targetValue=0)\n",
        "  distance_matrix_good = quadraticDistance(training=training_set, columns=col, targetClass='Quality', targetValue=1)\n",
        "\n",
        "  return [distance_matrix_good, distance_matrix_bad]"
      ],
      "execution_count": null,
      "outputs": []
    },
    {
      "cell_type": "code",
      "metadata": {
        "id": "VsBFKO6mu6z3",
        "colab_type": "code",
        "colab": {}
      },
      "source": [
        "# Salva le matrici in un file.\n",
        "# In particolare salva una matrice sotto il nome di 'matrix_good' e l'altra con il nome 'matrix_bad'\n",
        "# il file in cui viene salvato il tutto è .dat\n",
        "\n",
        "# Parametri:\n",
        "# matrix_good = matrice da salvare come 'matrix_good'\n",
        "# matrix_bad = matrice da salvare come 'matrix_bad'\n",
        "# fileName = stringa, nome del file che conterrà i dati (esclusa l'estensione .dat) (default 'matrix')\n",
        "\n",
        "def saveMatrixes(matrix_good, matrix_bad, fileName='matrix'):\n",
        "  name = fileName + '.dat'\n",
        "\n",
        "  d= shelve.open(name)   #crea il file che conterrà il dizionario\n",
        "  d['matrix_good']=matrix_good\n",
        "  d['matrix_bad']=matrix_bad\n",
        "  d.close()  #chiudo il file dizionario"
      ],
      "execution_count": null,
      "outputs": []
    },
    {
      "cell_type": "code",
      "metadata": {
        "id": "6ThcGxjNwQMQ",
        "colab_type": "code",
        "colab": {}
      },
      "source": [
        "# Carica due matrici delle distanze dal file specificato\n",
        "# Il file deve essere .dat\n",
        "\n",
        "# Parametri:\n",
        "# fileName = stringa, nome del file (senza estensione)\n",
        "\n",
        "# Return:\n",
        "# una lista di 2 matrici; indice 0 = metrice Good, indice 1 = matrice Bad\n",
        "\n",
        "def loadMatrixes(fileName):\n",
        "  name = fileName + '.dat'\n",
        "\n",
        "  d= shelve.open(name)  \n",
        "  \n",
        "  matrix_good= d['matrix_good'] \n",
        "  matrix_bad= d['matrix_bad']  \n",
        "  \n",
        "  d.close()\n",
        "\n",
        "  return [matrix_good, matrix_bad]"
      ],
      "execution_count": null,
      "outputs": []
    },
    {
      "cell_type": "markdown",
      "metadata": {
        "id": "zvJGh5x2ua1v",
        "colab_type": "text"
      },
      "source": [
        "### Processing degli outliers globali"
      ]
    },
    {
      "cell_type": "code",
      "metadata": {
        "id": "vYDqSWfumIBA",
        "colab_type": "code",
        "colab": {}
      },
      "source": [
        "# Calcola gli elementi outliers data la matrice delle distanze\n",
        "# In particolare dalle distanze di ogni coppia di punti, computa la media delle distanze di ogni punto,\n",
        "# e considera outlier tutti quelli che hanno una media superiore a una soglia specificata.\n",
        "# Le distanze negative non vengono considerate nel calcolo della media \n",
        "\n",
        "# Perametri:\n",
        "# distanceMatrix = matrice, contiene la distanza di ogni coppia di elementi\n",
        "# threeshold = numero, soglia per l'identificazione degli outliers\n",
        "\n",
        "# Return:\n",
        "# lista degli outliers (indici interi)\n",
        "\n",
        "def getOutliers(distanceMatrix, threeshold, verbose=False):\n",
        "  \n",
        "  row = distanceMatrix.shape[0]\n",
        "  outliersList = []\n",
        "\n",
        "  for i in range(0,row):\n",
        "    val = 0\n",
        "    count = 0\n",
        "\n",
        "    for elem in distanceMatrix[i]:\n",
        "      if elem >= 0 :\n",
        "        count=count+1\n",
        "        val=val+elem\n",
        "    if (val==0 and count==0):\n",
        "      val=-1\n",
        "    else:\n",
        "      val = val/count\n",
        "    \n",
        "    if val>=threeshold:\n",
        "      if verbose:\n",
        "        print('Elemento ' + str(i) + ' è un outlier, con valore: ' + str(val))\n",
        "      outliersList.append(i)\n",
        "  \n",
        "  if verbose:\n",
        "    print('Outliers trovati con soglia '+ str(threeshold)+ ': ' + str(len(outliersList)))\n",
        "  \n",
        "  return outliersList"
      ],
      "execution_count": null,
      "outputs": []
    },
    {
      "cell_type": "code",
      "metadata": {
        "id": "01vljBCcpRb_",
        "colab_type": "code",
        "colab": {}
      },
      "source": [
        "# Elimina i valori ritenuti Outliers da un set di dati\n",
        "\n",
        "# Parametri:\n",
        "# outliersList = lista di interi, contiene gli indici degli outlier da eliminare\n",
        "# training_set = pandas DataFrame, il set di dati da elaborare\n",
        "\n",
        "# Return:\n",
        "# pandas DataFrame, set di dati senza gli outliers\n",
        "\n",
        "def dropOutliers(outliersList, training_set):\n",
        "  result = training_set.drop(outliersList)\n",
        "  return result"
      ],
      "execution_count": null,
      "outputs": []
    },
    {
      "cell_type": "code",
      "metadata": {
        "id": "Hip7jFqKpFbZ",
        "colab_type": "code",
        "colab": {}
      },
      "source": [
        "# Processa gli outlier globali eliminandoli, a partire dalle matrici delle distanze\n",
        "\n",
        "# Paramentri:\n",
        "# training_set = pandas DataFrame, set di dati da elaborare\n",
        "# distance_matrix_good = matrice, contiene le distanze degli elementi con Quality=Good (oppure 1)\n",
        "# distance_matrix_bad = matrice, contiene le distanze degli elementi con Quality=Bad (oppure 0)\n",
        "# threeshold = soglia di definizione degli outliers\n",
        "# verbose = booleano, indica se stampare la descrizione dell'esecuzione\n",
        "\n",
        "def outliersProcessing(training_set, distance_matrix_good, distance_matrix_bad, threeshold, verbose=False):\n",
        "\n",
        "  dropListBad = getOutliers(distanceMatrix=distance_matrix_bad, threeshold=threeshold, verbose=verbose)\n",
        "  \n",
        "  dropListGood = getOutliers(distanceMatrix=distance_matrix_good, threeshold=threeshold, verbose=verbose)\n",
        "  \n",
        "  training_set2 = dropOutliers(outliersList=dropListBad, training_set=training_set)\n",
        "  training_set2 = dropOutliers(outliersList=dropListGood, training_set=training_set2)\n",
        "  \n",
        "  return training_set2"
      ],
      "execution_count": null,
      "outputs": []
    },
    {
      "cell_type": "markdown",
      "metadata": {
        "id": "2morgAHGxxDq",
        "colab_type": "text"
      },
      "source": [
        "# Computazione\n",
        "Contiene esempi di utilizzo delle funzioni riportate sopra"
      ]
    },
    {
      "cell_type": "markdown",
      "metadata": {
        "id": "tG_sVFzl2-QQ",
        "colab_type": "text"
      },
      "source": [
        "### Computazione outlier per ogni feature"
      ]
    },
    {
      "cell_type": "code",
      "metadata": {
        "id": "T2ISbSBVCuFQ",
        "colab_type": "code",
        "colab": {}
      },
      "source": [
        "# Carica i dati\n",
        "train = loadTrainingSet(filePath='https://raw.githubusercontent.com/serivan/mldmlab/master/Datasets/Kaggle2020/train.csv')\n",
        "\n",
        "# effettua una scalatura per uniformare le unità di misura\n",
        "scaleMeasureUnit(training_set=train, scale_chlorides=False)\n",
        "# Sostituisce i missing value con strategia simple\n",
        "train = handleMissingValue(training_set=train, imputer='simple')"
      ],
      "execution_count": null,
      "outputs": []
    },
    {
      "cell_type": "code",
      "metadata": {
        "id": "z05cRhDd3CrA",
        "colab_type": "code",
        "colab": {}
      },
      "source": [
        "# scelta delle colonne su cui effettuare ricerca degli outliers\n",
        "cols = ['fixed.acidity','volatile.acidity','citric.acid','residual.sugar','chlorides','free.sulfur.dioxide','total.sulfur.dioxide','density','pH','sulphates','alcohol']\n",
        "# eliminazione outliers\n",
        "featureOutlierSubstitution(training_set=train, columns=cols, threeshold=3, sub=np.nan, verbose=False)"
      ],
      "execution_count": null,
      "outputs": []
    },
    {
      "cell_type": "code",
      "metadata": {
        "id": "XTnYH1YyCwY4",
        "colab_type": "code",
        "colab": {}
      },
      "source": [
        "# rielabora i dati mancanti (precedenti outliers) con strategia iterative\n",
        "train = handleMissingValue(training_set=train, imputer='iterative')\n",
        "\n",
        "train"
      ],
      "execution_count": null,
      "outputs": []
    },
    {
      "cell_type": "markdown",
      "metadata": {
        "id": "CQXGy0Np1vhW",
        "colab_type": "text"
      },
      "source": [
        "### Costruisce e salva le matrici delle distanze"
      ]
    },
    {
      "cell_type": "code",
      "metadata": {
        "id": "QDquTf1fAj5P",
        "colab_type": "code",
        "colab": {}
      },
      "source": [
        "# Carica i dati, uniforma le unità di misura e riempie i missing value\n",
        "train = loadTrainingSet(filePath='https://raw.githubusercontent.com/serivan/mldmlab/master/Datasets/Kaggle2020/train.csv')\n",
        "\n",
        "scaleMeasureUnit(training_set=train, scale_chlorides=False)\n",
        "train = handleMissingValue(training_set=train, imputer='simple')"
      ],
      "execution_count": null,
      "outputs": []
    },
    {
      "cell_type": "code",
      "metadata": {
        "id": "nl3S_Zmozbyw",
        "colab_type": "code",
        "colab": {}
      },
      "source": [
        "cols = ['fixed.acidity','volatile.acidity','citric.acid','residual.sugar','chlorides','free.sulfur.dioxide','total.sulfur.dioxide','density','pH','sulphates','alcohol']\n",
        "\n",
        "# effettua una scalatura dei dati, in modo che i range di valori siano gli stessi per tutte le feature\n",
        "# e avere valori di distanze comparabili\n",
        "scaler(training_set=train, columns=cols)\n",
        "\n",
        "matrixes = computeDistanceMatrixes(training_set=train)"
      ],
      "execution_count": null,
      "outputs": []
    },
    {
      "cell_type": "code",
      "metadata": {
        "id": "N9_8WxTO_5PM",
        "colab_type": "code",
        "colab": {}
      },
      "source": [
        "# Salva le due matrici delle distanze\n",
        "matrixGood=matrixes[0] #matrice dei quality good\n",
        "matrixBad=matrixes[1] #matrice dei qualitì bad\n",
        "\n",
        "# salvataggio in locale, verranno cancellate alla chiusura del notebook\n",
        "saveMatrixes(matrix_good=matrixGood, matrix_bad=matrixBad, fileName='distanceMatrix')"
      ],
      "execution_count": null,
      "outputs": []
    },
    {
      "cell_type": "markdown",
      "metadata": {
        "id": "QTlfYQlK22by",
        "colab_type": "text"
      },
      "source": [
        "### Carica e utilizza la matrice delle distanze"
      ]
    },
    {
      "cell_type": "code",
      "metadata": {
        "id": "kGYbtE997cKP",
        "colab_type": "code",
        "colab": {}
      },
      "source": [
        "# caricamento dei dati, uniformazione unità di misura e gestione missing values\n",
        "train = loadTrainingSet(filePath='https://raw.githubusercontent.com/serivan/mldmlab/master/Datasets/Kaggle2020/train.csv')\n",
        "\n",
        "scaleMeasureUnit(training_set=train, scale_chlorides=False)\n",
        "train = handleMissingValue(training_set=train, imputer='simple')"
      ],
      "execution_count": null,
      "outputs": []
    },
    {
      "cell_type": "code",
      "metadata": {
        "id": "pLOxGsc612Xl",
        "colab_type": "code",
        "colab": {}
      },
      "source": [
        "cols = ['fixed.acidity','volatile.acidity','citric.acid','residual.sugar','chlorides','free.sulfur.dioxide','total.sulfur.dioxide','density','pH','sulphates','alcohol']\n",
        "\n",
        "# effettua una scalatura dei dati, in modo che i range di valori siano gli stessi per tutte le feature\n",
        "# e avere valori di distanze comparabili\n",
        "scaler(training_set=train, columns=cols)\n",
        "\n",
        "# carica le matrici delle distanze\n",
        "matrixes = loadMatrixes(fileName='distanceMatrix')\n",
        "distanceMatrixGood = matrixes[0]\n",
        "distanceMatrixBad = matrixes[1]"
      ],
      "execution_count": null,
      "outputs": []
    },
    {
      "cell_type": "code",
      "metadata": {
        "id": "35Z6elR_7hEd",
        "colab_type": "code",
        "colab": {}
      },
      "source": [
        "# elimina gli outliers\n",
        "train = outliersProcessing(training_set=train, distance_matrix_good=distanceMatrixGood, distance_matrix_bad=distanceMatrixBad, threeshold=70, verbose=False)\n",
        "\n",
        "train"
      ],
      "execution_count": null,
      "outputs": []
    }
  ]
}
