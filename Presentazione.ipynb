{
  "nbformat": 4,
  "nbformat_minor": 0,
  "metadata": {
    "colab": {
      "name": "Presentazione.ipynb",
      "provenance": [],
      "collapsed_sections": [
        "ZVpoC2llOkzj",
        "ez6JFVwd-3q-",
        "oMQfMmwwP009",
        "seWxT1TRGRpO",
        "_206i62wQKEj",
        "9qHJUN2SGUp7",
        "RMKHcKDrI7aU"
      ],
      "include_colab_link": true
    },
    "kernelspec": {
      "name": "python3",
      "display_name": "Python 3"
    }
  },
  "cells": [
    {
      "cell_type": "markdown",
      "metadata": {
        "id": "view-in-github",
        "colab_type": "text"
      },
      "source": [
        "<a href=\"https://colab.research.google.com/github/AndreaBertoglio/MLDM/blob/master/Presentazione.ipynb\" target=\"_parent\"><img src=\"https://colab.research.google.com/assets/colab-badge.svg\" alt=\"Open In Colab\"/></a>"
      ]
    },
    {
      "cell_type": "markdown",
      "metadata": {
        "id": "ZVpoC2llOkzj",
        "colab_type": "text"
      },
      "source": [
        "# **Import**"
      ]
    },
    {
      "cell_type": "code",
      "metadata": {
        "id": "ZI9-kt4ALqSO",
        "colab_type": "code",
        "colab": {
          "base_uri": "https://localhost:8080/",
          "height": 34
        },
        "outputId": "5ae7ea77-8c96-401d-9cab-d1d7e814435a"
      },
      "source": [
        "import pip\n",
        "import sys\n",
        "import random\n",
        "import numpy as np\n",
        "import pandas as pd\n",
        "import graphviz\n",
        "import matplotlib.pyplot as plt\n",
        "print(\"Random number with seed 2020\")\n",
        "# first call\n",
        "random.seed(2020)"
      ],
      "execution_count": null,
      "outputs": [
        {
          "output_type": "stream",
          "text": [
            "Random number with seed 2020\n"
          ],
          "name": "stdout"
        }
      ]
    },
    {
      "cell_type": "markdown",
      "metadata": {
        "id": "ez6JFVwd-3q-",
        "colab_type": "text"
      },
      "source": [
        "# **Pre-processing**\n"
      ]
    },
    {
      "cell_type": "markdown",
      "metadata": {
        "id": "KCtZiZckBKfq",
        "colab_type": "text"
      },
      "source": [
        "POINE"
      ]
    },
    {
      "cell_type": "markdown",
      "metadata": {
        "id": "oMQfMmwwP009",
        "colab_type": "text"
      },
      "source": [
        "# **Grid search e K-fold cross validation**"
      ]
    },
    {
      "cell_type": "markdown",
      "metadata": {
        "id": "N6RULLgjP7Fs",
        "colab_type": "text"
      },
      "source": [
        "Spiegazione Grid"
      ]
    },
    {
      "cell_type": "code",
      "metadata": {
        "id": "eiDxIXp9P-2N",
        "colab_type": "code",
        "colab": {}
      },
      "source": [
        "# Codice standard Grid"
      ],
      "execution_count": null,
      "outputs": []
    },
    {
      "cell_type": "markdown",
      "metadata": {
        "id": "JwePyUXXP812",
        "colab_type": "text"
      },
      "source": [
        "Spiegazione K-Fold"
      ]
    },
    {
      "cell_type": "code",
      "metadata": {
        "id": "ygv5kAJaQA2_",
        "colab_type": "code",
        "colab": {}
      },
      "source": [
        "# Codice standard k-fold"
      ],
      "execution_count": null,
      "outputs": []
    },
    {
      "cell_type": "markdown",
      "metadata": {
        "id": "seWxT1TRGRpO",
        "colab_type": "text"
      },
      "source": [
        "# **Metodi**\n"
      ]
    },
    {
      "cell_type": "markdown",
      "metadata": {
        "colab_type": "text",
        "id": "_206i62wQKEj"
      },
      "source": [
        "\n",
        "## *Decision Tree Classifier*"
      ]
    },
    {
      "cell_type": "markdown",
      "metadata": {
        "colab_type": "text",
        "id": "Gs0Imb93QKEl"
      },
      "source": [
        "Gli alberi di decisione sono un metodo di classificazione di records, i quali contengono vari attributi, tra cui il più importante è la classe. Quest'ultimo è, infatti, quello che deve essere predetto dall'algoritmo, sulla base dei valori assunti dagli altri attributi. Nel nostro caso la classe è rappresentata da un valore binario: \"Good\" e \"Bad\".\n",
        "Gli alberi di decisione sono formati da vari nodi, ognuno dei quali rappresenta un test su uno specifico attributo. Le alternative che si diramano dai nodi corrispondono ai possibili valori che l'attributo può assumere. Questa suddivisione può essere binaria, quindi diramazione in due soli rami, oppure multy-way, quindi una suddivisione in k percorsi, con k>2. La scelta sullo specifico modo di splittare viene effettuata in base al tipo di attributi che formano i nostri records: una divisione binaria si presta bene per quelli attributi che assumono un valore booleano, un valore binario oppure un valore numerico, scegliendo, in quest'ultimo caso, un valore preciso in cui suddividere i due insiemi. La suddivisione multi-way è adatta nei casi in cui un valore può assumere tanti valori differenti, creando così una ramificazione per ogni possibile valore assunto dall'attributo.\n",
        "L'altezza massima che può assumere l'albero è pari al numero di attributi differenti contenuti nei record, effettuando, in tal modo, un controllo per ogni singolo attributo. I nodi foglia rappresentano la classe, cioè il valore obiettivo che vogliamo predire. \n",
        "\n",
        "//scelta suddivisione nodi\n",
        "\n",
        "La classificazione di una nuova istanza avviene partendo dal nodo radice, il primo realizzato, man mano scendendo seguendo il percorso designato in base ai valori dei vari attributi del record che stiamo considerando. Pertanto sia la classificazione dei records che la spiegazione della stessa risultano molto semplici e intuitive, formate, per l'appunto, da una sequenza di confronti all'interno dei nodi, che portano l'istanza ad arrivare ad un determinato nodo foglia contrassegnato con una specifica classe."
      ]
    },
    {
      "cell_type": "code",
      "metadata": {
        "colab_type": "code",
        "id": "v0BJMBH1QKEm",
        "colab": {}
      },
      "source": [
        "# Codice standard"
      ],
      "execution_count": null,
      "outputs": []
    },
    {
      "cell_type": "markdown",
      "metadata": {
        "colab_type": "text",
        "id": "NSlHSmvcQKEq"
      },
      "source": [
        "Nostro utilizzo..."
      ]
    },
    {
      "cell_type": "code",
      "metadata": {
        "colab_type": "code",
        "id": "CEUTvRQPQKEq",
        "colab": {}
      },
      "source": [
        "# Best risultato"
      ],
      "execution_count": null,
      "outputs": []
    },
    {
      "cell_type": "markdown",
      "metadata": {
        "colab_type": "text",
        "id": "PaOt7_XiQKEt"
      },
      "source": [
        "Valutazioni..."
      ]
    },
    {
      "cell_type": "markdown",
      "metadata": {
        "id": "9qHJUN2SGUp7",
        "colab_type": "text"
      },
      "source": [
        "## *Linear Regression*\n"
      ]
    },
    {
      "cell_type": "markdown",
      "metadata": {
        "id": "fX_BLWDyGfh4",
        "colab_type": "text"
      },
      "source": [
        "La *Linear regression* è un semplice approccio al \"supervised learning\", prevede che la dipendenza tra Y e X1,X2,…,Xp sia lineare."
      ]
    },
    {
      "cell_type": "code",
      "metadata": {
        "id": "7TeGkoR8HCmU",
        "colab_type": "code",
        "colab": {}
      },
      "source": [
        "# Codice standard\n",
        "from sklearn.linear_model import LinearRegression\n",
        "\n",
        "lin_reg =LinearRegression()"
      ],
      "execution_count": null,
      "outputs": []
    },
    {
      "cell_type": "markdown",
      "metadata": {
        "id": "6-gnj_sGHLoj",
        "colab_type": "text"
      },
      "source": [
        "Il problema della LinearRegression è che non può essere utilizzata per la classificazione binaria, per questo motivo abbiamo deciso di utilizzare il RidgeClassifier: questo classificatore prima converte i target values is {-1, 1} e poi tratta il problema con la regressione lineare."
      ]
    },
    {
      "cell_type": "code",
      "metadata": {
        "id": "Sqi8ozlSHN9M",
        "colab_type": "code",
        "colab": {}
      },
      "source": [
        "# Best risultato"
      ],
      "execution_count": null,
      "outputs": []
    },
    {
      "cell_type": "markdown",
      "metadata": {
        "id": "BOSAOGoYHQG9",
        "colab_type": "text"
      },
      "source": [
        "Questo metodo ha conseguito risultati scadenti in quanto non si adatta nel miglior modo al nostro problema, limitando la classificazione a un modello lineare."
      ]
    },
    {
      "cell_type": "markdown",
      "metadata": {
        "colab_type": "text",
        "id": "RMKHcKDrI7aU"
      },
      "source": [
        "## *Logistic Regression*\n"
      ]
    },
    {
      "cell_type": "markdown",
      "metadata": {
        "colab_type": "text",
        "id": "x_V-mTaNI7az"
      },
      "source": [
        "Definizione..."
      ]
    },
    {
      "cell_type": "code",
      "metadata": {
        "colab_type": "code",
        "id": "EbeqtGVJI7a2",
        "colab": {}
      },
      "source": [
        "# Codice standard"
      ],
      "execution_count": null,
      "outputs": []
    },
    {
      "cell_type": "markdown",
      "metadata": {
        "colab_type": "text",
        "id": "iWpFVW8-I7bJ"
      },
      "source": [
        "Nostro utilizzo..."
      ]
    },
    {
      "cell_type": "code",
      "metadata": {
        "colab_type": "code",
        "id": "g9a_J9t7I7bM",
        "colab": {}
      },
      "source": [
        "# Best risultato"
      ],
      "execution_count": null,
      "outputs": []
    },
    {
      "cell_type": "markdown",
      "metadata": {
        "colab_type": "text",
        "id": "LZXnP32_I7bX"
      },
      "source": [
        "Valutazioni..."
      ]
    }
  ]
}